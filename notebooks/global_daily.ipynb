{
 "metadata": {
  "language_info": {
   "codemirror_mode": {
    "name": "ipython",
    "version": 3
   },
   "file_extension": ".py",
   "mimetype": "text/x-python",
   "name": "python",
   "nbconvert_exporter": "python",
   "pygments_lexer": "ipython3",
   "version": "3.8.5-final"
  },
  "orig_nbformat": 2,
  "kernelspec": {
   "name": "Python 3.8.5 64-bit ('venv': venv)",
   "display_name": "Python 3.8.5 64-bit ('venv': venv)",
   "metadata": {
    "interpreter": {
     "hash": "3d03b5dd76edca489aca1a4df1e6cb3f12fe82df803b123313eed9f29dd6b793"
    }
   }
  }
 },
 "nbformat": 4,
 "nbformat_minor": 2,
 "cells": [
  {
   "cell_type": "code",
   "execution_count": 3,
   "metadata": {},
   "outputs": [],
   "source": [
    "import pandas as pd\n",
    "\n",
    "import urllib.request\n",
    "from zipfile import ZipFile"
   ]
  },
  {
   "cell_type": "code",
   "execution_count": 5,
   "metadata": {},
   "outputs": [],
   "source": [
    "urllib.request.urlretrieve(\"https://github.com/CSSEGISandData/COVID-19/archive/master.zip\",\"../data/external/CSSEGISandData.zip\")\n",
    "with ZipFile(\"../data/external/CSSEGISandData.zip\", 'r') as zippedFile:\n",
    "    zippedFile.extractall('../data/external/')"
   ]
  },
  {
   "cell_type": "code",
   "execution_count": 8,
   "metadata": {},
   "outputs": [],
   "source": [
    "df = pd.read_csv('../data/external/COVID-19-master/csse_covid_19_data/csse_covid_19_time_series/time_series_covid19_confirmed_global.csv')"
   ]
  },
  {
   "cell_type": "code",
   "execution_count": 18,
   "metadata": {},
   "outputs": [],
   "source": [
    "over1kCaseDf = df[df[\"10/23/20\"]-df[\"10/22/20\"] > 10000]"
   ]
  },
  {
   "cell_type": "code",
   "execution_count": 19,
   "metadata": {},
   "outputs": [
    {
     "output_type": "execute_result",
     "data": {
      "text/plain": [
       "    Province/State  Country/Region        Lat        Long  1/22/20  1/23/20  \\\n",
       "6              NaN       Argentina -38.416100  -63.616700        0        0   \n",
       "23             NaN         Belgium  50.833300    4.469936        0        0   \n",
       "30             NaN          Brazil -14.235000  -51.925300        0        0   \n",
       "98             NaN         Czechia  49.817500   15.473000        0        0   \n",
       "126            NaN          France  46.227600    2.213700        0        0   \n",
       "130            NaN         Germany  51.165691   10.451526        0        0   \n",
       "143            NaN           India  20.593684   78.962880        0        0   \n",
       "149            NaN           Italy  41.871940   12.567380        0        0   \n",
       "204            NaN          Poland  51.919400   19.145100        0        0   \n",
       "208            NaN          Russia  61.524010  105.318756        0        0   \n",
       "227            NaN           Spain  40.463667   -3.749220        0        0   \n",
       "243            NaN              US  40.000000 -100.000000        1        1   \n",
       "257            NaN  United Kingdom  55.378100   -3.436000        0        0   \n",
       "\n",
       "     1/24/20  1/25/20  1/26/20  1/27/20  ...  10/14/20  10/15/20  10/16/20  \\\n",
       "6          0        0        0        0  ...    931967    949063    965609   \n",
       "23         0        0        0        0  ...    181511    191959    202151   \n",
       "30         0        0        0        0  ...   5140863   5169386   5200300   \n",
       "98         0        0        0        0  ...    139290    149010    160112   \n",
       "126        2        3        3        3  ...    788117    818707    843475   \n",
       "130        0        0        0        1  ...    344487    352107    359802   \n",
       "143        0        0        0        0  ...   7307097   7370468   7432680   \n",
       "149        0        0        0        0  ...    372799    381602    391611   \n",
       "204        0        0        0        0  ...    141804    149903    157608   \n",
       "208        0        0        0        0  ...   1332824   1346380   1361317   \n",
       "227        0        0        0        0  ...    908056    921374    936560   \n",
       "243        2        2        5        5  ...   7916099   7979709   8048865   \n",
       "257        0        0        0        0  ...    654644    673622    689257   \n",
       "\n",
       "     10/17/20  10/18/20  10/19/20  10/20/20  10/21/20  10/22/20  10/23/20  \n",
       "6      979119    989680   1002662   1018999   1037325   1053650   1069368  \n",
       "23     213115    222253    230480    240159    253386    270132    287700  \n",
       "30    5224362   5224362   5250727   5273954   5298772   5323630   5353656  \n",
       "98     168827    173885    181962    193946    208915    223065    238323  \n",
       "126    843471    843471    918679    939147    965451   1007026   1048842  \n",
       "130    364664    368671    377068    385591    397922    403874    426110  \n",
       "143   7494551   7550273   7597063   7651107   7706946   7761312   7814682  \n",
       "149    402536    414241    423578    434449    449648    465726    484869  \n",
       "204    167230    175766    183248    192539    202579    214686    228318  \n",
       "208   1376020   1390824   1406667   1422775   1438219   1453923   1471000  \n",
       "227    936560    936560    974449    988322   1005295   1026281   1046132  \n",
       "243   8106384   8154594   8212981   8273296   8336031   8407702   8491459  \n",
       "257    705428    722409    741212    762542    789229    810467    830998  \n",
       "\n",
       "[13 rows x 280 columns]"
      ],
      "text/html": "<div>\n<style scoped>\n    .dataframe tbody tr th:only-of-type {\n        vertical-align: middle;\n    }\n\n    .dataframe tbody tr th {\n        vertical-align: top;\n    }\n\n    .dataframe thead th {\n        text-align: right;\n    }\n</style>\n<table border=\"1\" class=\"dataframe\">\n  <thead>\n    <tr style=\"text-align: right;\">\n      <th></th>\n      <th>Province/State</th>\n      <th>Country/Region</th>\n      <th>Lat</th>\n      <th>Long</th>\n      <th>1/22/20</th>\n      <th>1/23/20</th>\n      <th>1/24/20</th>\n      <th>1/25/20</th>\n      <th>1/26/20</th>\n      <th>1/27/20</th>\n      <th>...</th>\n      <th>10/14/20</th>\n      <th>10/15/20</th>\n      <th>10/16/20</th>\n      <th>10/17/20</th>\n      <th>10/18/20</th>\n      <th>10/19/20</th>\n      <th>10/20/20</th>\n      <th>10/21/20</th>\n      <th>10/22/20</th>\n      <th>10/23/20</th>\n    </tr>\n  </thead>\n  <tbody>\n    <tr>\n      <th>6</th>\n      <td>NaN</td>\n      <td>Argentina</td>\n      <td>-38.416100</td>\n      <td>-63.616700</td>\n      <td>0</td>\n      <td>0</td>\n      <td>0</td>\n      <td>0</td>\n      <td>0</td>\n      <td>0</td>\n      <td>...</td>\n      <td>931967</td>\n      <td>949063</td>\n      <td>965609</td>\n      <td>979119</td>\n      <td>989680</td>\n      <td>1002662</td>\n      <td>1018999</td>\n      <td>1037325</td>\n      <td>1053650</td>\n      <td>1069368</td>\n    </tr>\n    <tr>\n      <th>23</th>\n      <td>NaN</td>\n      <td>Belgium</td>\n      <td>50.833300</td>\n      <td>4.469936</td>\n      <td>0</td>\n      <td>0</td>\n      <td>0</td>\n      <td>0</td>\n      <td>0</td>\n      <td>0</td>\n      <td>...</td>\n      <td>181511</td>\n      <td>191959</td>\n      <td>202151</td>\n      <td>213115</td>\n      <td>222253</td>\n      <td>230480</td>\n      <td>240159</td>\n      <td>253386</td>\n      <td>270132</td>\n      <td>287700</td>\n    </tr>\n    <tr>\n      <th>30</th>\n      <td>NaN</td>\n      <td>Brazil</td>\n      <td>-14.235000</td>\n      <td>-51.925300</td>\n      <td>0</td>\n      <td>0</td>\n      <td>0</td>\n      <td>0</td>\n      <td>0</td>\n      <td>0</td>\n      <td>...</td>\n      <td>5140863</td>\n      <td>5169386</td>\n      <td>5200300</td>\n      <td>5224362</td>\n      <td>5224362</td>\n      <td>5250727</td>\n      <td>5273954</td>\n      <td>5298772</td>\n      <td>5323630</td>\n      <td>5353656</td>\n    </tr>\n    <tr>\n      <th>98</th>\n      <td>NaN</td>\n      <td>Czechia</td>\n      <td>49.817500</td>\n      <td>15.473000</td>\n      <td>0</td>\n      <td>0</td>\n      <td>0</td>\n      <td>0</td>\n      <td>0</td>\n      <td>0</td>\n      <td>...</td>\n      <td>139290</td>\n      <td>149010</td>\n      <td>160112</td>\n      <td>168827</td>\n      <td>173885</td>\n      <td>181962</td>\n      <td>193946</td>\n      <td>208915</td>\n      <td>223065</td>\n      <td>238323</td>\n    </tr>\n    <tr>\n      <th>126</th>\n      <td>NaN</td>\n      <td>France</td>\n      <td>46.227600</td>\n      <td>2.213700</td>\n      <td>0</td>\n      <td>0</td>\n      <td>2</td>\n      <td>3</td>\n      <td>3</td>\n      <td>3</td>\n      <td>...</td>\n      <td>788117</td>\n      <td>818707</td>\n      <td>843475</td>\n      <td>843471</td>\n      <td>843471</td>\n      <td>918679</td>\n      <td>939147</td>\n      <td>965451</td>\n      <td>1007026</td>\n      <td>1048842</td>\n    </tr>\n    <tr>\n      <th>130</th>\n      <td>NaN</td>\n      <td>Germany</td>\n      <td>51.165691</td>\n      <td>10.451526</td>\n      <td>0</td>\n      <td>0</td>\n      <td>0</td>\n      <td>0</td>\n      <td>0</td>\n      <td>1</td>\n      <td>...</td>\n      <td>344487</td>\n      <td>352107</td>\n      <td>359802</td>\n      <td>364664</td>\n      <td>368671</td>\n      <td>377068</td>\n      <td>385591</td>\n      <td>397922</td>\n      <td>403874</td>\n      <td>426110</td>\n    </tr>\n    <tr>\n      <th>143</th>\n      <td>NaN</td>\n      <td>India</td>\n      <td>20.593684</td>\n      <td>78.962880</td>\n      <td>0</td>\n      <td>0</td>\n      <td>0</td>\n      <td>0</td>\n      <td>0</td>\n      <td>0</td>\n      <td>...</td>\n      <td>7307097</td>\n      <td>7370468</td>\n      <td>7432680</td>\n      <td>7494551</td>\n      <td>7550273</td>\n      <td>7597063</td>\n      <td>7651107</td>\n      <td>7706946</td>\n      <td>7761312</td>\n      <td>7814682</td>\n    </tr>\n    <tr>\n      <th>149</th>\n      <td>NaN</td>\n      <td>Italy</td>\n      <td>41.871940</td>\n      <td>12.567380</td>\n      <td>0</td>\n      <td>0</td>\n      <td>0</td>\n      <td>0</td>\n      <td>0</td>\n      <td>0</td>\n      <td>...</td>\n      <td>372799</td>\n      <td>381602</td>\n      <td>391611</td>\n      <td>402536</td>\n      <td>414241</td>\n      <td>423578</td>\n      <td>434449</td>\n      <td>449648</td>\n      <td>465726</td>\n      <td>484869</td>\n    </tr>\n    <tr>\n      <th>204</th>\n      <td>NaN</td>\n      <td>Poland</td>\n      <td>51.919400</td>\n      <td>19.145100</td>\n      <td>0</td>\n      <td>0</td>\n      <td>0</td>\n      <td>0</td>\n      <td>0</td>\n      <td>0</td>\n      <td>...</td>\n      <td>141804</td>\n      <td>149903</td>\n      <td>157608</td>\n      <td>167230</td>\n      <td>175766</td>\n      <td>183248</td>\n      <td>192539</td>\n      <td>202579</td>\n      <td>214686</td>\n      <td>228318</td>\n    </tr>\n    <tr>\n      <th>208</th>\n      <td>NaN</td>\n      <td>Russia</td>\n      <td>61.524010</td>\n      <td>105.318756</td>\n      <td>0</td>\n      <td>0</td>\n      <td>0</td>\n      <td>0</td>\n      <td>0</td>\n      <td>0</td>\n      <td>...</td>\n      <td>1332824</td>\n      <td>1346380</td>\n      <td>1361317</td>\n      <td>1376020</td>\n      <td>1390824</td>\n      <td>1406667</td>\n      <td>1422775</td>\n      <td>1438219</td>\n      <td>1453923</td>\n      <td>1471000</td>\n    </tr>\n    <tr>\n      <th>227</th>\n      <td>NaN</td>\n      <td>Spain</td>\n      <td>40.463667</td>\n      <td>-3.749220</td>\n      <td>0</td>\n      <td>0</td>\n      <td>0</td>\n      <td>0</td>\n      <td>0</td>\n      <td>0</td>\n      <td>...</td>\n      <td>908056</td>\n      <td>921374</td>\n      <td>936560</td>\n      <td>936560</td>\n      <td>936560</td>\n      <td>974449</td>\n      <td>988322</td>\n      <td>1005295</td>\n      <td>1026281</td>\n      <td>1046132</td>\n    </tr>\n    <tr>\n      <th>243</th>\n      <td>NaN</td>\n      <td>US</td>\n      <td>40.000000</td>\n      <td>-100.000000</td>\n      <td>1</td>\n      <td>1</td>\n      <td>2</td>\n      <td>2</td>\n      <td>5</td>\n      <td>5</td>\n      <td>...</td>\n      <td>7916099</td>\n      <td>7979709</td>\n      <td>8048865</td>\n      <td>8106384</td>\n      <td>8154594</td>\n      <td>8212981</td>\n      <td>8273296</td>\n      <td>8336031</td>\n      <td>8407702</td>\n      <td>8491459</td>\n    </tr>\n    <tr>\n      <th>257</th>\n      <td>NaN</td>\n      <td>United Kingdom</td>\n      <td>55.378100</td>\n      <td>-3.436000</td>\n      <td>0</td>\n      <td>0</td>\n      <td>0</td>\n      <td>0</td>\n      <td>0</td>\n      <td>0</td>\n      <td>...</td>\n      <td>654644</td>\n      <td>673622</td>\n      <td>689257</td>\n      <td>705428</td>\n      <td>722409</td>\n      <td>741212</td>\n      <td>762542</td>\n      <td>789229</td>\n      <td>810467</td>\n      <td>830998</td>\n    </tr>\n  </tbody>\n</table>\n<p>13 rows × 280 columns</p>\n</div>"
     },
     "metadata": {},
     "execution_count": 19
    }
   ],
   "source": [
    "over1kCaseDf"
   ]
  },
  {
   "cell_type": "code",
   "execution_count": 29,
   "metadata": {},
   "outputs": [],
   "source": [
    "meltedover1kCaseDf = pd.melt(over1kCaseDf,id_vars=[\"Country/Region\"], value_vars=list(over1kCaseDf.columns)[4:])\n",
    "meltedover1kCaseDf.columns = ['Country/Region',\"Date\",\"Cumaltive Case Count\"]"
   ]
  },
  {
   "cell_type": "code",
   "execution_count": 28,
   "metadata": {},
   "outputs": [
    {
     "output_type": "execute_result",
     "data": {
      "text/plain": [
       "      Country/Region  variable    value\n",
       "0          Argentina   1/22/20        0\n",
       "1            Belgium   1/22/20        0\n",
       "2             Brazil   1/22/20        0\n",
       "3            Czechia   1/22/20        0\n",
       "4             France   1/22/20        0\n",
       "...              ...       ...      ...\n",
       "3583          Poland  10/23/20   228318\n",
       "3584          Russia  10/23/20  1471000\n",
       "3585           Spain  10/23/20  1046132\n",
       "3586              US  10/23/20  8491459\n",
       "3587  United Kingdom  10/23/20   830998\n",
       "\n",
       "[3588 rows x 3 columns]"
      ],
      "text/html": "<div>\n<style scoped>\n    .dataframe tbody tr th:only-of-type {\n        vertical-align: middle;\n    }\n\n    .dataframe tbody tr th {\n        vertical-align: top;\n    }\n\n    .dataframe thead th {\n        text-align: right;\n    }\n</style>\n<table border=\"1\" class=\"dataframe\">\n  <thead>\n    <tr style=\"text-align: right;\">\n      <th></th>\n      <th>Country/Region</th>\n      <th>variable</th>\n      <th>value</th>\n    </tr>\n  </thead>\n  <tbody>\n    <tr>\n      <th>0</th>\n      <td>Argentina</td>\n      <td>1/22/20</td>\n      <td>0</td>\n    </tr>\n    <tr>\n      <th>1</th>\n      <td>Belgium</td>\n      <td>1/22/20</td>\n      <td>0</td>\n    </tr>\n    <tr>\n      <th>2</th>\n      <td>Brazil</td>\n      <td>1/22/20</td>\n      <td>0</td>\n    </tr>\n    <tr>\n      <th>3</th>\n      <td>Czechia</td>\n      <td>1/22/20</td>\n      <td>0</td>\n    </tr>\n    <tr>\n      <th>4</th>\n      <td>France</td>\n      <td>1/22/20</td>\n      <td>0</td>\n    </tr>\n    <tr>\n      <th>...</th>\n      <td>...</td>\n      <td>...</td>\n      <td>...</td>\n    </tr>\n    <tr>\n      <th>3583</th>\n      <td>Poland</td>\n      <td>10/23/20</td>\n      <td>228318</td>\n    </tr>\n    <tr>\n      <th>3584</th>\n      <td>Russia</td>\n      <td>10/23/20</td>\n      <td>1471000</td>\n    </tr>\n    <tr>\n      <th>3585</th>\n      <td>Spain</td>\n      <td>10/23/20</td>\n      <td>1046132</td>\n    </tr>\n    <tr>\n      <th>3586</th>\n      <td>US</td>\n      <td>10/23/20</td>\n      <td>8491459</td>\n    </tr>\n    <tr>\n      <th>3587</th>\n      <td>United Kingdom</td>\n      <td>10/23/20</td>\n      <td>830998</td>\n    </tr>\n  </tbody>\n</table>\n<p>3588 rows × 3 columns</p>\n</div>"
     },
     "metadata": {},
     "execution_count": 28
    }
   ],
   "source": [
    "meltedover1kCaseDf"
   ]
  },
  {
   "cell_type": "code",
   "execution_count": null,
   "metadata": {},
   "outputs": [],
   "source": []
  }
 ]
}