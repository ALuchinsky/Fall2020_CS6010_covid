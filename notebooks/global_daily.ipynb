{
 "metadata": {
  "language_info": {
   "codemirror_mode": {
    "name": "ipython",
    "version": 3
   },
   "file_extension": ".py",
   "mimetype": "text/x-python",
   "name": "python",
   "nbconvert_exporter": "python",
   "pygments_lexer": "ipython3",
   "version": "3.8.5-final"
  },
  "orig_nbformat": 2,
  "kernelspec": {
   "name": "Python 3.8.5 64-bit ('venv': venv)",
   "display_name": "Python 3.8.5 64-bit ('venv': venv)",
   "metadata": {
    "interpreter": {
     "hash": "3d03b5dd76edca489aca1a4df1e6cb3f12fe82df803b123313eed9f29dd6b793"
    }
   }
  }
 },
 "nbformat": 4,
 "nbformat_minor": 2,
 "cells": [
  {
   "cell_type": "code",
   "execution_count": null,
   "metadata": {},
   "outputs": [],
   "source": [
    "import pandas as pd\n",
    "\n",
    "import urllib.request\n",
    "from zipfile import ZipFile"
   ]
  },
  {
   "cell_type": "code",
   "execution_count": null,
   "metadata": {},
   "outputs": [],
   "source": [
    "urllib.request.urlretrieve(\"https://github.com/CSSEGISandData/COVID-19/archive/master.zip\",\"../data/external/CSSEGISandData.zip\")\n",
    "with ZipFile(\"../data/external/CSSEGISandData.zip\", 'r') as zippedFile:\n",
    "    zippedFile.extractall('../data/external/')"
   ]
  },
  {
   "cell_type": "code",
   "execution_count": null,
   "metadata": {},
   "outputs": [],
   "source": [
    "df = pd.read_csv('../data/external/COVID-19-master/csse_covid_19_data/csse_covid_19_time_series/time_series_covid19_confirmed_global.csv')"
   ]
  },
  {
   "cell_type": "code",
   "execution_count": null,
   "metadata": {},
   "outputs": [],
   "source": [
    "over1kCaseDf = df[df[\"10/23/20\"]-df[\"10/22/20\"] > 10000]"
   ]
  },
  {
   "cell_type": "code",
   "execution_count": null,
   "metadata": {},
   "outputs": [],
   "source": [
    "over1kCaseDf"
   ]
  },
  {
   "cell_type": "code",
   "execution_count": null,
   "metadata": {},
   "outputs": [],
   "source": [
    "meltedover1kCaseDf = pd.melt(over1kCaseDf,id_vars=[\"Country/Region\"], value_vars=list(over1kCaseDf.columns)[4:])\n",
    "meltedover1kCaseDf.columns = ['Country/Region',\"Date\",\"Case Count\"]"
   ]
  },
  {
   "cell_type": "code",
   "execution_count": null,
   "metadata": {},
   "outputs": [],
   "source": [
    "# Attempt to convert to daily case count\n",
    "for country in meltedover1kCaseDf['Country/Region'].unique():\n",
    "    meltedover1kCaseDf[meltedover1kCaseDf['Country/Region'] == country]['Case Count'] = meltedover1kCaseDf[meltedover1kCaseDf['Country/Region'] == country]['Case Count'].diff()"
   ]
  },
  {
   "cell_type": "code",
   "execution_count": null,
   "metadata": {},
   "outputs": [],
   "source": []
  },
  {
   "cell_type": "code",
   "execution_count": null,
   "metadata": {},
   "outputs": [],
   "source": []
  }
 ]
}