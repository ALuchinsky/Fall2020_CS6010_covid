{
 "cells": [
  {
   "cell_type": "markdown",
   "metadata": {},
   "source": [
    "# Michigan COVID-19 Data\n",
    "\n",
    "## Imports"
   ]
  },
  {
   "cell_type": "code",
   "execution_count": null,
   "metadata": {},
   "outputs": [],
   "source": [
    "import pandas as pd\n",
    "import numpy as np\n",
    "\n",
    "import os\n",
    "import glob\n",
    "import requests\n",
    "from bs4 import BeautifulSoup\n",
    "\n",
    "import seaborn as sns\n",
    "import matplotlib.pyplot as plt\n",
    "\n",
    "import geopandas as gp"
   ]
  },
  {
   "cell_type": "markdown",
   "metadata": {},
   "source": [
    "## Michigan COVID-19 Data\n",
    "### Download the latest COVID-19 data"
   ]
  },
  {
   "cell_type": "code",
   "execution_count": null,
   "metadata": {},
   "outputs": [],
   "source": [
    "michiganCovid19Url = 'https://www.michigan.gov/coronavirus/0,9753,7-406-98163_98173---,00.html'\n",
    "michiganCovid19PageSoup = BeautifulSoup(requests.get(michiganCovid19Url).content)"
   ]
  },
  {
   "cell_type": "markdown",
   "metadata": {},
   "source": [
    "Make the michigan external data directory to store the data if it isn't there already. "
   ]
  },
  {
   "cell_type": "code",
   "execution_count": null,
   "metadata": {},
   "outputs": [],
   "source": [
    "externalPath = '../data/external/michiganCovid19Data/'\n",
    "dir = os.path.dirname(externalPath)\n",
    "if not os.path.exists(dir):\n",
    "    os.makedirs(dir)"
   ]
  },
  {
   "cell_type": "markdown",
   "metadata": {},
   "source": [
    "Download the data into the the above folder."
   ]
  },
  {
   "cell_type": "code",
   "execution_count": null,
   "metadata": {},
   "outputs": [],
   "source": [
    "# Delete the existing data as michigan datetime stamps their data\n",
    "michiganDataFileNames = glob.glob('../data/external/michiganCovid19Data/*')\n",
    "for fileName in michiganDataFileNames:\n",
    "    os.remove(fileName)"
   ]
  },
  {
   "cell_type": "code",
   "execution_count": null,
   "metadata": {},
   "outputs": [],
   "source": [
    "for urlHtml in michiganCovid19PageSoup.find(id='comp_115341').find_all('a'):\n",
    "    url = 'https://www.michigan.gov/' + urlHtml['href']\n",
    "    with open(externalPath + url.split('/')[-1],\"wb\") as file:\n",
    "        response = requests.get(url)\n",
    "        file.write(response.content)"
   ]
  },
  {
   "cell_type": "markdown",
   "metadata": {},
   "source": [
    "### Read the day by day Michigan covid 19 data"
   ]
  },
  {
   "cell_type": "code",
   "execution_count": null,
   "metadata": {},
   "outputs": [],
   "source": [
    "glob.glob('../data/external/michiganCovid19Data/Cases_and_Deaths_by_County_and_by_Date_of_Symptom_Onset_or_by_Date_of_Death*')[0]\n",
    "michiganDayByDayDf = pd.read_excel(glob.glob('../data/external/michiganCovid19Data/Cases_and_Deaths_by_County_and_by_Date_of_Symptom_Onset_or_by_Date_of_Death*')[0])\n",
    "#df = pd.read_excel(\"../data/external/michiganCovid19Data/Cases_and_Deaths_by_County_2020-11-02_706751_7.xlsx\")\n",
    "#df = pd.read_excel(\"../data/external/michiganCovid19Data/Cases_by_Demographics_Statewide_2020-11-02_706753_7.xlsx\")\n",
    "#df = pd.read_excel(\"../data/external/michiganCovid19Data/Covid-19_Tests_by_County_2020-11-02_706754_7.xlsx\")\n",
    "#df = pd.read_excel(\"../data/external/michiganCovid19Data/Diagnostic_Tests_by_Result_and_County_2020-11-02_706755_7.xlsx\")\n",
    "michiganDayByDayTestingDf = pd.read_excel(glob.glob('../data/external/michiganCovid19Data/Diagnostic_Tests_by_Result_and_County*')[0])"
   ]
  },
  {
   "cell_type": "code",
   "execution_count": null,
   "metadata": {},
   "outputs": [],
   "source": [
    "michiganDayByDayDf"
   ]
  },
  {
   "cell_type": "markdown",
   "metadata": {},
   "source": [
    "### Tidy data\n",
    "Let's look to see if there is any missing data. Looks like the date data is missing."
   ]
  },
  {
   "cell_type": "code",
   "execution_count": null,
   "metadata": {},
   "outputs": [],
   "source": [
    "michiganDayByDayDf.count()/michiganDayByDayDf.shape[0]"
   ]
  },
  {
   "cell_type": "markdown",
   "metadata": {},
   "source": [
    "Since only 3 dates are missing and they don't seem impactful, let's filter out the missing date values."
   ]
  },
  {
   "cell_type": "code",
   "execution_count": null,
   "metadata": {},
   "outputs": [],
   "source": [
    "michiganDayByDayDf[~np.isnat(michiganDayByDayDf[\"Date\"])]"
   ]
  },
  {
   "cell_type": "markdown",
   "metadata": {},
   "source": [
    "Let's look at the datatypes. Wow, it got most of them right! Let's get the CASE_STATUS and COUNTY set as category."
   ]
  },
  {
   "cell_type": "code",
   "execution_count": null,
   "metadata": {},
   "outputs": [],
   "source": [
    "michiganDayByDayDf.dtypes"
   ]
  },
  {
   "cell_type": "code",
   "execution_count": null,
   "metadata": {},
   "outputs": [],
   "source": [
    "michiganDayByDayDf['CASE_STATUS'] = michiganDayByDayDf['CASE_STATUS'].astype('category')\n",
    "michiganDayByDayDf['COUNTY'] = michiganDayByDayDf['COUNTY'].astype('category')"
   ]
  },
  {
   "cell_type": "code",
   "execution_count": null,
   "metadata": {},
   "outputs": [],
   "source": [
    "michiganDayByDayDf.dtypes"
   ]
  },
  {
   "cell_type": "code",
   "execution_count": null,
   "metadata": {},
   "outputs": [],
   "source": [
    "michiganDayByDayDf = michiganDayByDayDf[michiganDayByDayDf['CASE_STATUS'] == 'Confirmed']\n",
    "michiganDayByDayDf"
   ]
  },
  {
   "cell_type": "markdown",
   "metadata": {},
   "source": [
    "### Let's graphically view the data"
   ]
  },
  {
   "cell_type": "markdown",
   "metadata": {},
   "source": [
    "Is there a correlation between cases and deaths?"
   ]
  },
  {
   "cell_type": "code",
   "execution_count": null,
   "metadata": {},
   "outputs": [],
   "source": [
    "dailyCaseDeathMichigan = michiganDayByDayDf[[\"Date\",\"Cases\",\"Deaths\"]].groupby([\"Date\"]).sum()"
   ]
  },
  {
   "cell_type": "code",
   "execution_count": null,
   "metadata": {},
   "outputs": [],
   "source": [
    "sns.pairplot(dailyCaseDeathMichigan)"
   ]
  },
  {
   "cell_type": "markdown",
   "metadata": {},
   "source": [
    "# Get Michigan GeoJSON"
   ]
  },
  {
   "cell_type": "code",
   "execution_count": null,
   "metadata": {},
   "outputs": [],
   "source": [
    "michiganCountyGeoJSONURL = \"https://raw.githubusercontent.com/deldersveld/topojson/master/countries/us-states/MI-26-michigan-counties.json\""
   ]
  },
  {
   "cell_type": "markdown",
   "metadata": {},
   "source": [
    "Citation:\n",
    "\n",
    "Eldersveld, D. (2020) TopoJSON Collection (Version 1.0) [Source Code]. https://github.com/deldersveld/topojson."
   ]
  },
  {
   "cell_type": "markdown",
   "metadata": {},
   "source": [
    "## Plot empty map to confirm data source fitness"
   ]
  },
  {
   "cell_type": "code",
   "execution_count": null,
   "metadata": {},
   "outputs": [],
   "source": [
    "geoDataFrame = gp.read_file(michiganCountyGeoJSONURL)\n",
    "geoDataFrame.plot()"
   ]
  },
  {
   "cell_type": "markdown",
   "metadata": {},
   "source": [
    "## Understanding the GeoJSON Data"
   ]
  },
  {
   "cell_type": "code",
   "execution_count": null,
   "metadata": {},
   "outputs": [],
   "source": [
    "geoDataFrame.head(5)"
   ]
  },
  {
   "cell_type": "markdown",
   "metadata": {},
   "source": [
    "## Create a county organized Covid-19 DataFrame"
   ]
  },
  {
   "cell_type": "code",
   "execution_count": null,
   "metadata": {},
   "outputs": [],
   "source": [
    "countyDataFrame = michiganDayByDayDf.groupby(['COUNTY']).sum()"
   ]
  },
  {
   "cell_type": "markdown",
   "metadata": {},
   "source": [
    "## Merge GeoJSON with Covid-19 DataFrame"
   ]
  },
  {
   "cell_type": "code",
   "execution_count": null,
   "metadata": {},
   "outputs": [],
   "source": [
    "geoDataFrameMerged = geoDataFrame.merge(countyDataFrame, right_on=\"COUNTY\", left_on=\"NAME\")"
   ]
  },
  {
   "cell_type": "code",
   "execution_count": null,
   "metadata": {},
   "outputs": [],
   "source": [
    "geoDataFrameMerged.head(5)"
   ]
  },
  {
   "cell_type": "markdown",
   "metadata": {},
   "source": [
    "## Modify the DataFrame for centering labels for ease of comprehension."
   ]
  },
  {
   "cell_type": "code",
   "execution_count": null,
   "metadata": {},
   "outputs": [],
   "source": [
    "geoDataFrameMerged[\"center\"] = geoDataFrameMerged[\"geometry\"].centroid\n",
    "michiganCountyNames = geoDataFrameMerged.copy()\n",
    "michiganCountyNames.set_geometry(\"center\", inplace=True)"
   ]
  },
  {
   "cell_type": "markdown",
   "metadata": {},
   "source": [
    "## Plot Case County Data"
   ]
  },
  {
   "cell_type": "code",
   "execution_count": null,
   "metadata": {},
   "outputs": [],
   "source": [
    "ax = geoDataFrameMerged.plot(column=\"Cases\", legend=True, figsize=(15,10), cmap='YlOrRd')\n",
    "\n",
    "for x, y, label in zip(michiganCountyNames.geometry.x, michiganCountyNames.geometry.y, michiganCountyNames[\"NAME\"]):\n",
    "    plt.text(x, y, label, fontsize = 10)"
   ]
  },
  {
   "cell_type": "markdown",
   "metadata": {},
   "source": [
    "## Plot Death County Data"
   ]
  },
  {
   "cell_type": "code",
   "execution_count": null,
   "metadata": {},
   "outputs": [],
   "source": [
    "ax = geoDataFrameMerged.plot(column=\"Deaths\", legend=True, figsize=(15,10), cmap='YlOrRd')\n",
    "\n",
    "for x, y, label in zip(michiganCountyNames.geometry.x, michiganCountyNames.geometry.y, michiganCountyNames[\"NAME\"]):\n",
    "    plt.text(x, y, label, fontsize = 10)"
   ]
  },
  {
   "cell_type": "markdown",
   "metadata": {},
   "source": [
    "# Export Data for Final Project Notebook\n",
    "## First export the data by county"
   ]
  },
  {
   "cell_type": "code",
   "execution_count": null,
   "metadata": {},
   "outputs": [],
   "source": [
    "michiganDayByDayDf[\"State\"] = 'Michigan'"
   ]
  },
  {
   "cell_type": "code",
   "execution_count": null,
   "metadata": {},
   "outputs": [],
   "source": [
    "michiganExportDataFrameByCounty = michiganDayByDayDf[[\"Date\",\"State\",\"COUNTY\",\"Cases\",\"Deaths\"]]"
   ]
  },
  {
   "cell_type": "code",
   "execution_count": null,
   "metadata": {},
   "outputs": [],
   "source": [
    "michiganExportDataFrameByCounty.columns=[\"Date\",\"State\",\"County\",\"Cases\",\"Deaths\"]"
   ]
  },
  {
   "cell_type": "code",
   "execution_count": null,
   "metadata": {},
   "outputs": [],
   "source": [
    "michiganExportDataFrameByCounty"
   ]
  },
  {
   "cell_type": "code",
   "execution_count": null,
   "metadata": {},
   "outputs": [],
   "source": [
    "michiganExportDataFrameByCounty.to_csv(\"../data/processed/by_county/michigan.csv\", index=False)"
   ]
  },
  {
   "cell_type": "markdown",
   "metadata": {},
   "source": [
    "## Second export by state"
   ]
  },
  {
   "cell_type": "code",
   "execution_count": null,
   "metadata": {},
   "outputs": [],
   "source": [
    "michiganDayByDayTestingDf.columns=[\"County\",\"Date\", \"Negative\", \"Positive\",\"Total\"]\n",
    "michiganDayByDayTestingDf.groupby([\"Date\"]).sum()"
   ]
  },
  {
   "cell_type": "code",
   "execution_count": null,
   "metadata": {},
   "outputs": [],
   "source": [
    "michiganExportDataFrameByState = michiganExportDataFrameByCounty.groupby(\"Date\").sum()"
   ]
  },
  {
   "cell_type": "code",
   "execution_count": null,
   "metadata": {},
   "outputs": [],
   "source": [
    "michiganExportDataFrameByState[\"State\"] = \"Michigan\""
   ]
  },
  {
   "cell_type": "code",
   "execution_count": null,
   "metadata": {},
   "outputs": [],
   "source": [
    "michiganExportDataFrameByState"
   ]
  },
  {
   "cell_type": "code",
   "execution_count": null,
   "metadata": {},
   "outputs": [],
   "source": [
    "groupedTestingByDate = michiganDayByDayTestingDf.groupby(\"Date\").sum()"
   ]
  },
  {
   "cell_type": "code",
   "execution_count": null,
   "metadata": {},
   "outputs": [],
   "source": [
    "groupedTestingByDate"
   ]
  },
  {
   "cell_type": "code",
   "execution_count": null,
   "metadata": {},
   "outputs": [],
   "source": [
    "michiganExportDataFrameByState = michiganExportDataFrameByState.merge(groupedTestingByDate,left_index=True,right_index=True)"
   ]
  },
  {
   "cell_type": "code",
   "execution_count": null,
   "metadata": {},
   "outputs": [],
   "source": [
    "michiganExportDataFrameByState = michiganExportDataFrameByState[[\"State\",\"Cases\",\"Positive\",\"Negative\",\"Deaths\"]]"
   ]
  },
  {
   "cell_type": "code",
   "execution_count": null,
   "metadata": {},
   "outputs": [],
   "source": [
    "michiganExportDataFrameByState.to_csv(\"../data/processed/by_state/michigan.csv\")"
   ]
  },
  {
   "cell_type": "code",
   "execution_count": null,
   "metadata": {},
   "outputs": [],
   "source": []
  }
 ],
 "metadata": {
  "kernelspec": {
   "display_name": "Python 3",
   "language": "python",
   "name": "python3"
  },
  "language_info": {
   "codemirror_mode": {
    "name": "ipython",
    "version": 3
   },
   "file_extension": ".py",
   "mimetype": "text/x-python",
   "name": "python",
   "nbconvert_exporter": "python",
   "pygments_lexer": "ipython3",
   "version": "3.8.5"
  }
 },
 "nbformat": 4,
 "nbformat_minor": 4
}
