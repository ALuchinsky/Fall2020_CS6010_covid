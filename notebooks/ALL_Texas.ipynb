{
 "cells": [
  {
   "cell_type": "code",
   "execution_count": null,
   "metadata": {},
   "outputs": [],
   "source": [
    "import pandas as pd\n",
    "import numpy as np"
   ]
  },
  {
   "cell_type": "code",
   "execution_count": null,
   "metadata": {},
   "outputs": [],
   "source": [
    "texasCasesDataURL = \"https://dshs.texas.gov/coronavirus/TexasCOVID-19NewCasesOverTimebyCounty.xlsx\"\n",
    "texasDeathsDataURL = \"https://dshs.texas.gov/coronavirus/TexasCOVID19DailyCountyFatalityCountData.xlsx\"\n",
    "texasTestingLegacyDataUrl = \"https://dshs.texas.gov/coronavirus/TexasCOVID-19CumulativeTestsOverTimebyCounty.xlsx\"\n",
    "texasTestingDataUrl = \"https://dshs.texas.gov/coronavirus/TexasCOVID-19CumulativeTestsbyCounty.xlsx\"\n",
    "texasCaseCountDataUrl = \"https://dshs.texas.gov/coronavirus/TexasCOVID19CaseCountData.xlsx\""
   ]
  },
  {
   "cell_type": "code",
   "execution_count": null,
   "metadata": {},
   "outputs": [],
   "source": [
    "casesDf = pd.read_excel(texasCasesDataURL, skiprows=2)\n",
    "deathsDf = pd.read_excel(texasDeathsDataURL, skiprows=2, skipfooter=2)\n",
    "legacytestsDf = pd.read_excel(texasTestingLegacyDataUrl, skiprows=1, skipfooter=11)\n",
    "testscasesDf = pd.read_excel(texasTestingDataUrl, skiprows=1, skipfooter=3)"
   ]
  },
  {
   "cell_type": "code",
   "execution_count": null,
   "metadata": {},
   "outputs": [],
   "source": [
    "headers = casesDf.columns\n",
    "headers = [i.split(\" \")[2] for i in headers[1:]]\n",
    "temp = []\n",
    "for i in headers:\n",
    "    if \"2020-\" not in i:\n",
    "        temp.append(\"2020-\" + i)\n",
    "    else:\n",
    "        temp.append(i)\n",
    "headers = temp\n",
    "headers.insert(0, 'County')\n",
    "casesDf.columns = headers"
   ]
  },
  {
   "cell_type": "code",
   "execution_count": null,
   "metadata": {},
   "outputs": [],
   "source": [
    "casesDfMelted = casesDf.melt(id_vars='County', var_name='Date', value_name='Cases')\n",
    "casesDfMelted.Date = pd.to_datetime(casesDfMelted.Date)"
   ]
  },
  {
   "cell_type": "code",
   "execution_count": null,
   "metadata": {},
   "outputs": [],
   "source": [
    "headers = deathsDf.columns\n",
    "headers = [i.split(' ')[1] for i in headers]\n",
    "headers = ['2020-' + i for i in headers[1:]]\n",
    "headers.insert(0, 'County')\n",
    "deathsDf.columns = headers"
   ]
  },
  {
   "cell_type": "code",
   "execution_count": null,
   "metadata": {},
   "outputs": [],
   "source": [
    "deathsDfMelted = deathsDf.melt(id_vars='County', var_name='Date', value_name='Deaths')\n",
    "deathsDfMelted.Date = pd.to_datetime(casesDfMelted.Date)\n",
    "deathsDfMelted.County = deathsDfMelted.County.str.capitalize()"
   ]
  },
  {
   "cell_type": "code",
   "execution_count": null,
   "metadata": {},
   "outputs": [],
   "source": [
    "headers = legacytestsDf.columns\n",
    "headers = [i.split(' ')[2:4] for i in headers]\n",
    "headers = [' '.join(i) for i in headers]\n",
    "headers = [i + ', 2020' for i in headers]\n",
    "headers = [i.replace('*', '') for i in headers]\n",
    "headers = [pd.to_datetime(i) for i in headers[1:]]\n",
    "headers = [i.strftime(\"%Y-%m-%d\") for i in headers]\n",
    "headers.insert(0, 'County')\n",
    "legacytestsDf.columns = headers"
   ]
  },
  {
   "cell_type": "code",
   "execution_count": null,
   "metadata": {},
   "outputs": [],
   "source": [
    "headers = testscasesDf.columns\n",
    "headers = [i.strftime(\"%Y-%m-%d\") for i in headers[1:]]\n",
    "headers.insert(0, 'County')\n",
    "testscasesDf.columns = headers"
   ]
  },
  {
   "cell_type": "code",
   "execution_count": null,
   "metadata": {},
   "outputs": [],
   "source": [
    "testsDf = pd.concat([legacytestsDf, testscasesDf], axis=1)\n",
    "testsDf = testsDf.loc[:,~testsDf.columns.duplicated()]\n",
    "testsDf.drop(columns=['2020-05-05', '2020-05-23', '2020-06-10'], inplace=True)"
   ]
  },
  {
   "cell_type": "code",
   "execution_count": null,
   "metadata": {},
   "outputs": [],
   "source": [
    "testsDfMelted = testsDf.melt(id_vars='County', var_name='Date', value_name='Tests')\n",
    "testsDfMelted.Date = pd.to_datetime(testsDfMelted.Date)"
   ]
  },
  {
   "cell_type": "code",
   "execution_count": null,
   "metadata": {},
   "outputs": [],
   "source": [
    "unifiedTexasDf = pd.merge(testsDfMelted, casesDfMelted)\n",
    "unifiedTexasDf = pd.merge(unifiedTexasDf, deathsDfMelted)\n",
    "unifiedTexasDf.Tests = unifiedTexasDf.Tests.astype('int')"
   ]
  },
  {
   "cell_type": "code",
   "execution_count": null,
   "metadata": {},
   "outputs": [],
   "source": [
    "unifiedTexasDf"
   ]
  },
  {
   "cell_type": "code",
   "execution_count": null,
   "metadata": {},
   "outputs": [],
   "source": [
    "graphDf = unifiedTexasDf.copy()\n",
    "graphDf.set_index('Date', inplace=True)\n",
    "graphDf.groupby('County')['Tests'].plot(legend=True)"
   ]
  },
  {
   "cell_type": "code",
   "execution_count": null,
   "metadata": {},
   "outputs": [],
   "source": [
    "texasCasesDf = pd.merge(casesDfMelted.groupby('Date').sum().reindex(), deathsDfMelted.groupby('Date').sum().reindex(), on = \"Date\", how = \"outer\").ffill() \n",
    "texasCasesDf"
   ]
  },
  {
   "cell_type": "code",
   "execution_count": null,
   "metadata": {},
   "outputs": [],
   "source": [
    "texasCaseCountDf = pd.read_excel(texasCaseCountDataUrl, skiprows=2, skipfooter=14, usecols=\"A:C\", sheet_name=\"Tests by Day\")\n",
    "texasCaseCountDf[\"Negative\"] = texasCaseCountDf[\"Test Results\"] - texasCaseCountDf[\"Positive Test Results\"]\n",
    "texasCaseCountDf[\"State\"] = \"Texas\"\n",
    "texasCaseCountDf.drop([\"Test Results\"], axis=1, inplace=True)\n",
    "texasCaseCountDf.rename(columns={\"Lab Reported Date\" : \"Date\", \"Positive Test Results\" : \"Positive\"}, inplace=True)\n",
    "texasCaseCountDf"
   ]
  },
  {
   "cell_type": "code",
   "execution_count": null,
   "metadata": {},
   "outputs": [],
   "source": [
    "texasCaseCountDfCopy = texasCaseCountDf.copy()"
   ]
  },
  {
   "cell_type": "code",
   "execution_count": null,
   "metadata": {},
   "outputs": [],
   "source": [
    "texasCaseCountDfCopy = texasCaseCountDfCopy.merge(texasCasesDf, on = \"Date\", how = \"outer\").dropna()\n",
    "texasCaseCountDfCopy[\"State\"] = \"Texas\"\n",
    "texasCaseCountDf = texasCaseCountDfCopy[[\"Date\", \"State\", \"Cases\", \"Positive\", \"Negative\", \"Deaths\"]]\n",
    "texasCaseCountDf.dtypes"
   ]
  },
  {
   "cell_type": "code",
   "execution_count": null,
   "metadata": {},
   "outputs": [],
   "source": [
    "texasCaseCountDf.__dict__.update(texasCaseCountDf.astype({\"Positive\": np.int64, \"Negative\": np.int64, \"Deaths\" : np.int64}).__dict__)\n",
    "texasCaseCountDf = texasCaseCountDf.iloc[::-1]\n",
    "texasCaseCountDf.to_csv('../data/processed/by_state/TX.csv', index=False)"
   ]
  },
  {
   "cell_type": "code",
   "execution_count": null,
   "metadata": {},
   "outputs": [],
   "source": [
    "byStateDf = unifiedTexasDf.copy()\n",
    "byStateDf[\"State\"] = \"Texas\"\n",
    "byStateDf = byStateDf[[\"Date\",\"State\",\"County\",\"Cases\",\"Deaths\"]]\n",
    "byStateDf.to_csv('../data/processed/by_county/TX.csv', index=False)"
   ]
  }
 ],
 "metadata": {
  "kernelspec": {
   "display_name": "Python 3",
   "language": "python",
   "name": "python3"
  },
  "language_info": {
   "codemirror_mode": {
    "name": "ipython",
    "version": 3
   },
   "file_extension": ".py",
   "mimetype": "text/x-python",
   "name": "python",
   "nbconvert_exporter": "python",
   "pygments_lexer": "ipython3",
   "version": "3.8.6"
  }
 },
 "nbformat": 4,
 "nbformat_minor": 4
}
