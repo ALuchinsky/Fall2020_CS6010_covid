{
 "cells": [
  {
   "cell_type": "markdown",
   "metadata": {},
   "source": [
    "# Setup"
   ]
  },
  {
   "cell_type": "code",
   "execution_count": null,
   "metadata": {},
   "outputs": [],
   "source": [
    "import pandas as pd\n",
    "import numpy as np\n",
    "\n",
    "import os\n",
    "import glob\n",
    "import requests\n",
    "\n",
    "import seaborn as sns\n",
    "import matplotlib.pyplot as plt\n",
    "\n",
    "import geopandas as gp\n",
    "\n",
    "from zipfile import ZipFile\n",
    "import urllib.request\n",
    "from os import path\n",
    "import plotly.graph_objs as go\n",
    "# Import us state abbreviation dict\n",
    "%run scripts/us_state_abbrev.py"
   ]
  },
  {
   "cell_type": "code",
   "execution_count": null,
   "metadata": {},
   "outputs": [],
   "source": [
    "# Preprocessing the data\n",
    "statesDataProcessingPath = glob.glob('scripts/states/*')\n",
    "for processingPath in statesDataProcessingPath:\n",
    "    %run $processingPath"
   ]
  },
  {
   "cell_type": "markdown",
   "metadata": {},
   "source": [
    "## Import the preprocessed dataframes"
   ]
  },
  {
   "cell_type": "code",
   "execution_count": null,
   "metadata": {},
   "outputs": [],
   "source": [
    "#Note: If you do not have the preprocessed files in the ../data/processed directory things will not work and some states will be missing.\n",
    "# If the above script fails because the state health department has changed the files please download https://falconbgsu-my.sharepoint.com/:u:/g/personal/vvela_bgsu_edu/ES3bHiPtUL5EtFizS55GnLcByWq6LH_4Pa9FAgR1P7HZpQ?e=DD5VU2\n",
    "\n",
    "byCountyDf = pd.concat(map(pd.read_csv,  glob.glob('../data/processed/by_county/*')))\n",
    "byStateDf = pd.concat(map(pd.read_csv,  glob.glob('../data/processed/by_state/*')))"
   ]
  },
  {
   "cell_type": "code",
   "execution_count": null,
   "metadata": {},
   "outputs": [],
   "source": [
    "# CDC Death data\n",
    "excessCdcDeathsDf = pd.read_csv(\"https://data.cdc.gov/api/views/muzy-jte6/rows.csv?accessType=DOWNLOAD\")\n",
    "\n",
    "# tests from https://covidtracking.com/data\n",
    "df_tracker = pd.read_csv(\"https://covidtracking.com/data/download/all-states-history.csv\")"
   ]
  },
  {
   "cell_type": "markdown",
   "metadata": {},
   "source": [
    "## Import GeoJSON files"
   ]
  },
  {
   "cell_type": "code",
   "execution_count": null,
   "metadata": {},
   "outputs": [],
   "source": [
    "zipPath = \"../data/raw/topojson-master.zip\"\n",
    "if not path.exists(zipPath):\n",
    "    url = \"https://github.com/deldersveld/topojson/archive/master.zip\"\n",
    "    exportIntermediatePath = '../data/raw/'\n",
    "    urllib.request.urlretrieve(url, zipPath)\n",
    "    with ZipFile(zipPath, 'r') as zippedFile:\n",
    "        zippedFile.extractall(exportIntermediatePath)"
   ]
  },
  {
   "cell_type": "markdown",
   "metadata": {},
   "source": [
    "## Setup data types for dataframes"
   ]
  },
  {
   "cell_type": "code",
   "execution_count": null,
   "metadata": {},
   "outputs": [],
   "source": [
    "byCountyDf['Date']       = pd.to_datetime(byCountyDf['Date'])\n",
    "byCountyDf['State']      = byCountyDf['State'].astype('category')\n",
    "byCountyDf['County']     = byCountyDf['County'].astype('category')\n",
    "byCountyDf[\"WeekNumber\"] = byCountyDf[\"Date\"].dt.isocalendar().week\n",
    "\n",
    "byStateDf['Date']        = pd.to_datetime(byStateDf['Date'])\n",
    "byStateDf['State']       = byStateDf['State'].astype('category')\n",
    "byStateDf[\"WeekNumber\"]  = byStateDf[\"Date\"].dt.isocalendar().week\n",
    "byStateDf[\"Tests\"]       = byStateDf[\"Positive\"] + byStateDf[\"Negative\"]\n",
    "\n",
    "excessCdcDeathsDf[\"Week Ending Date\"] = pd.to_datetime( excessCdcDeathsDf[\"Week Ending Date\"])\n",
    "excessCdcDeathsDf[\"WeekNumber\"] = excessCdcDeathsDf[\"Week Ending Date\"].dt.isocalendar().week\n",
    "\n",
    "df_tracker[\"date\"] = pd.to_datetime(df_tracker[\"date\"])\n",
    "df_tracker[\"WeekNumber\"] = df_tracker[\"date\"].dt.isocalendar().week"
   ]
  },
  {
   "cell_type": "markdown",
   "metadata": {},
   "source": [
    "## Additional setups"
   ]
  },
  {
   "cell_type": "code",
   "execution_count": null,
   "metadata": {},
   "outputs": [],
   "source": [
    "states = { state: us_state_abbrev[state] for state in byStateDf['State'].unique() }\n",
    "states"
   ]
  },
  {
   "cell_type": "markdown",
   "metadata": {},
   "source": [
    "# Analysis"
   ]
  },
  {
   "cell_type": "markdown",
   "metadata": {},
   "source": [
    "## GeoJSON"
   ]
  },
  {
   "cell_type": "code",
   "execution_count": null,
   "metadata": {},
   "outputs": [],
   "source": [
    "# Get the right states from https://github.com/deldersveld/topojson/tree/master/countries/us-states\n",
    "\n",
    "geoJsonPaths = {}\n",
    "for st in states.values():\n",
    "    geoJsonPaths[st] = glob.glob('../data/raw/topojson-master/countries/us-states/' + st + \"*\")"
   ]
  },
  {
   "cell_type": "code",
   "execution_count": null,
   "metadata": {},
   "outputs": [],
   "source": [
    "def plot_map(state, case_type, ax=None, names = False):\n",
    "    if not ax:\n",
    "        ax = plt.gca()\n",
    "    st = states[state]\n",
    "    geoDataFrame = gp.read_file(geoJsonPaths[st][0], ax=ax)\n",
    "    countyDataFrame = byCountyDf[byCountyDf[\"State\"] == state].groupby([\"County\"]).sum()\n",
    "    geoDataFrameMerged = geoDataFrame.merge(countyDataFrame, right_on=\"County\", left_on=\"NAME\")\n",
    "    geoDataFrameMerged[\"center\"] = geoDataFrameMerged[\"geometry\"].centroid\n",
    "    countyNames = geoDataFrameMerged.copy()\n",
    "    countyNames.set_geometry(\"center\", inplace=True)\n",
    "\n",
    "    # Plot cases\n",
    "    geoDataFrameMerged.plot(column=case_type, legend=True, figsize=(15,10), cmap='YlOrRd', ax=ax)\n",
    "    if names:\n",
    "        for x, y, label in zip(countyNames.geometry.x, countyNames.geometry.y, countyNames[\"NAME\"]):\n",
    "            ax.text(x, y, label, fontsize = 10)\n",
    "    ax.set_title(state+': ' + case_type + ' heatmap')\n",
    "   "
   ]
  },
  {
   "cell_type": "code",
   "execution_count": null,
   "metadata": {},
   "outputs": [],
   "source": [
    "for st in states.keys():\n",
    "    fig, axes = plt.subplots(ncols=2, nrows=1, figsize = (40,14))\n",
    "    plot_map(st, \"Cases\", axes[0], names=True )\n",
    "    plot_map(st, \"Deaths\", axes[1], names = True)\n",
    "plt.tight_layout()"
   ]
  },
  {
   "cell_type": "markdown",
   "metadata": {},
   "source": [
    "## Compare with COVID Tracker"
   ]
  },
  {
   "cell_type": "code",
   "execution_count": null,
   "metadata": {},
   "outputs": [],
   "source": [
    "fig, axes = plt.subplots(ncols = 2, nrows = 2, sharex=True, sharey=True, figsize = (9, 9))\n",
    "for state, st, ax in zip(list(states.keys()), list(states.values()), axes.flatten()):\n",
    "    byStateDf[ byStateDf[\"State\"] == state].groupby(\"Date\")[\"Deaths\"].sum().plot(ax = ax, label = \"State Health Dep.\")\n",
    "    df_tracker[ df_tracker[\"state\"] == st].groupby(\"date\")[\"deathIncrease\"].sum().plot(ax=ax, label = \"COVIDTracking Proj.\")\n",
    "    ax.set_title(state)\n",
    "axes[0][0].legend()\n",
    "axes[0][0].set_ylabel(\"Deaths\")\n",
    "axes[1][0].set_ylabel(\"Deaths\")\n",
    "plt.tight_layout()\n",
    "# plt.savefig(\"../report/figs/raw_tracker_comp_nc.pdf\")"
   ]
  },
  {
   "cell_type": "code",
   "execution_count": null,
   "metadata": {},
   "outputs": [],
   "source": [
    "fig, axes = plt.subplots(ncols = 2, nrows=2, sharex=True, sharey=True, figsize = (9, 9))\n",
    "for state, st, ax in zip(list(states.keys()), list(states.values()), axes.flatten()):\n",
    "    byStateDf[ byStateDf[\"State\"] == state].groupby(\"Date\")[\"Deaths\"].sum().cumsum().plot(ax = ax, label = \"State Health Dep.\")\n",
    "    df_tracker[ df_tracker[\"state\"] == st].groupby(\"date\")[\"death\"].sum().plot(ax=ax, label = \"COVIDTracking Proj.\")\n",
    "    ax.set_title(state)\n",
    "axes[0][0].legend()\n",
    "axes[0][0].set_ylabel(\"Cummulative Deaths\")\n",
    "axes[1][0].set_ylabel(\"Cummulative Deaths\")\n",
    "plt.tight_layout()\n",
    "# plt.savefig(\"../report/figs/raw_tracker_comp_cum.pdf\")"
   ]
  },
  {
   "cell_type": "markdown",
   "metadata": {},
   "source": [
    "## Compare Deaths statistics"
   ]
  },
  {
   "cell_type": "markdown",
   "metadata": {},
   "source": [
    "### Yearly (Ohio)"
   ]
  },
  {
   "cell_type": "code",
   "execution_count": null,
   "metadata": {
    "scrolled": true
   },
   "outputs": [],
   "source": [
    "ohio_covid_deaths = byStateDf[ byStateDf[\"State\"] == \"Ohio\"][\"Deaths\"].sum()\n",
    "print(\"Total COVID deaths in Ohio:\", ohio_covid_deaths)"
   ]
  },
  {
   "cell_type": "code",
   "execution_count": null,
   "metadata": {},
   "outputs": [],
   "source": [
    "df_ohio_yearly = pd.read_csv('../data/processed/ohio_yearly.csv')\n",
    "summary = df_ohio_yearly.groupby(\"Cause\")[\"Deaths\"].describe()[[\"mean\",\"std\"]]\\\n",
    "    .sort_values(\"mean\", ascending = False).reset_index()\n",
    "fig, ax = plt.subplots(1,1,figsize = (15,7))\n",
    "ax = sns.barplot(data = summary, y=\"Cause\", x=\"mean\")\n",
    "plt.xticks(rotation = 90)\n",
    "ax.axvline(x=ohio_covid_deaths,  linewidth = 2, color = 'red', linestyle = '--')\n",
    "plt.show()"
   ]
  },
  {
   "cell_type": "markdown",
   "metadata": {},
   "source": [
    "### Weekly statistics"
   ]
  },
  {
   "cell_type": "code",
   "execution_count": null,
   "metadata": {},
   "outputs": [],
   "source": [
    "st = \"California\"\n",
    "causes = [c for c in excessCdcDeathsDf.columns if \"(\" in c and not \"COVID\" in c]\n",
    "fig = go.Figure()\n",
    "covid_data = byStateDf[ byStateDf[\"State\"] == st].groupby(\"WeekNumber\")[[\"Deaths\"]].sum().reset_index()\n",
    "fig.add_trace(go.Scatter( x=covid_data[\"WeekNumber\"], y=covid_data[\"Deaths\"], name = \"COVID-19\",\n",
    "                        line = dict(color='black', width=5)))\n",
    "data = excessCdcDeathsDf[ excessCdcDeathsDf[\"Jurisdiction of Occurrence\"] == st].\\\n",
    "        groupby(\"WeekNumber\")[causes].sum().reset_index()\n",
    "for c in causes:\n",
    "    if \"R00\" in c:\n",
    "        fig.add_trace(go.Scatter( x=data[\"WeekNumber\"], y=data[c], name = c.split('(')[-1], \n",
    "                 line = dict(color='red', width=5)))\n",
    "    else:\n",
    "        fig.add_trace(go.Scatter( x=data[\"WeekNumber\"], y=data[c], name = c.split('(')[-1][:-1]))\n",
    "fig.update_layout(title = st, xaxis_title=\"Week Number\", yaxis_title=\"Deaths\", showlegend = False) \n",
    "fig.show()\n",
    "pd.DataFrame([c[:-1].split('(')[::-1] for c in causes], columns=[\"IDC\", \"cause\"]).set_index(\"IDC\")"
   ]
  },
  {
   "cell_type": "code",
   "execution_count": null,
   "metadata": {
    "scrolled": false
   },
   "outputs": [],
   "source": [
    "fig, axes = plt.subplots(ncols = 2, nrows = 2, sharex=True, sharey=True, figsize = (12, 12))\n",
    "for st, ax in zip(states.keys(), axes.flatten()):\n",
    "    covid_data = byStateDf[ byStateDf[\"State\"] == st].groupby(\"WeekNumber\")[[\"Deaths\"]].sum()\n",
    "    sns.lineplot(data = covid_data, x=\"WeekNumber\", y=\"Deaths\", linewidth = 5, color='k', label = \"COVID-19\", ax=ax,\n",
    "                legend = False)\n",
    "    data = excessCdcDeathsDf[ excessCdcDeathsDf[\"Jurisdiction of Occurrence\"] == st].\\\n",
    "        groupby(\"WeekNumber\")[causes].sum()\n",
    "    for cause in causes:\n",
    "        label = cause.split('(')[-1][:-1]\n",
    "        if \"R00\" in label or \"abnormal\" in label:\n",
    "            sns.lineplot(data = data, x=\"WeekNumber\", y=cause, label = label, color='r', linewidth = 5, ax=ax, \n",
    "                         legend=False)\n",
    "        else:\n",
    "            sns.lineplot(data = data, x=\"WeekNumber\", y=cause, label = label, ax=ax, legend = False)\n",
    "        ax.set_title(st)\n",
    "axes.flatten()[-1].legend()"
   ]
  },
  {
   "cell_type": "code",
   "execution_count": null,
   "metadata": {},
   "outputs": [],
   "source": [
    "data = byStateDf.groupby([\"State\", \"WeekNumber\"])[\"Deaths\"].sum().reset_index()\n",
    "ps.line(data_frame=data, x=\"WeekNumber\", y=\"Deaths\", color = \"State\")"
   ]
  },
  {
   "cell_type": "markdown",
   "metadata": {},
   "source": [
    "## Look at population changes"
   ]
  },
  {
   "cell_type": "code",
   "execution_count": null,
   "metadata": {},
   "outputs": [],
   "source": [
    "# from https://www.census.gov/data/datasets/time-series/demo/popest/2010s-state-total.html#par_textimage_1873399417\n",
    "df_population = \\\n",
    "    pd.read_excel(\"https://www2.census.gov/programs-surveys/popest/tables/2010-2019/state/totals/nst-est2019-01.xlsx\")\n",
    "\n",
    "df_Population = pd.DataFrame(\n",
    "    index = df_population.iloc[3:59,0].str.replace(\".\",\"\").str.upper(), \n",
    "    columns =list(df_population.iloc[2,3:])\n",
    ")\n",
    "df_Population = pd.DataFrame( df_population.iloc[3:59, 3:] )\n",
    "df_Population = df_Population.set_index(df_population.iloc[3:59,0].str.replace(\".\",\"\").str.upper())\n",
    "df_Population = df_Population.rename(columns=df_population.iloc[2,3:].astype(int))\n",
    "df_Population.index.names = [\"Territory\"]"
   ]
  },
  {
   "cell_type": "code",
   "execution_count": null,
   "metadata": {},
   "outputs": [],
   "source": [
    "for state in states:\n",
    "    pop_State = df_Population.loc[state.upper(),:]\n",
    "    print(state + \" population: %d +- %d ( %.2f %%)\" % \n",
    "        ( pop_State.mean(), pop_State.std(), 100*pop_State.std()/pop_State.mean())\n",
    "        )\n"
   ]
  },
  {
   "cell_type": "markdown",
   "metadata": {},
   "source": [
    "## Testing"
   ]
  },
  {
   "cell_type": "code",
   "execution_count": null,
   "metadata": {},
   "outputs": [],
   "source": [
    "fig, axes = plt.subplots(ncols = 2, nrows=2, sharex=True, sharey=True, figsize = (12, 12))\n",
    "for state, ax in zip(states.keys(), axes.flatten() ):\n",
    "    indStateDf = byStateDf[byStateDf[\"State\"] == state]\n",
    "    for t in [\"Tests\", \"Positive\", \"Negative\"]:\n",
    "        sns.lineplot(data = indStateDf, x=\"Date\", y=t, label = t, legend = False, ax=ax)\n",
    "    ax.tick_params(axis='x', labelrotation=90)\n",
    "    ax.set_title(state)\n",
    "    ax.grid()\n",
    "axes.flatten()[0].legend()\n",
    "plt.show()"
   ]
  },
  {
   "cell_type": "code",
   "execution_count": null,
   "metadata": {},
   "outputs": [],
   "source": []
  }
 ],
 "metadata": {
  "kernelspec": {
   "name": "python3",
   "display_name": "Python 3.8.5 64-bit ('venv')",
   "metadata": {
    "interpreter": {
     "hash": "22836122db7cf12cb6baa1340ec66ee4f450b022958c0f9c65180deda34d1b4c"
    }
   }
  },
  "language_info": {
   "codemirror_mode": {
    "name": "ipython",
    "version": 3
   },
   "file_extension": ".py",
   "mimetype": "text/x-python",
   "name": "python",
   "nbconvert_exporter": "python",
   "pygments_lexer": "ipython3",
   "version": "3.8.5-final"
  }
 },
 "nbformat": 4,
 "nbformat_minor": 4
}