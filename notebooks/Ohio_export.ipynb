{
 "cells": [
  {
   "cell_type": "code",
   "execution_count": null,
   "metadata": {},
   "outputs": [],
   "source": [
    "import pandas as pd\n",
    "import numpy as np\n",
    "import seaborn as sns\n",
    "import matplotlib.pyplot as plt\n",
    "import urllib.request\n",
    "import re as re\n",
    "from bs4 import BeautifulSoup\n",
    "import plotly.express as ps"
   ]
  },
  {
   "cell_type": "code",
   "execution_count": null,
   "metadata": {},
   "outputs": [],
   "source": [
    "df = pd.read_csv(\"https://coronavirus.ohio.gov/static/dashboards/COVIDSummaryData.csv\", low_memory=False)\n",
    "# The last row is summary\n",
    "df_sum = df.iloc[[-1]]\n",
    "# actual data is in the other columns\n",
    "df_data = df.iloc[:-1].copy()"
   ]
  },
  {
   "cell_type": "code",
   "execution_count": null,
   "metadata": {},
   "outputs": [],
   "source": [
    "count_columns = [\"Case Count\", \"Death Due to Illness Count\", \"Hospitalized Count\"]\n",
    "for c in count_columns:\n",
    "    df_data[c] = df_data[c].astype(int)\n",
    "df_data[\"Onset Date\"] = pd.to_datetime( df_data[\"Onset Date\"])\n"
   ]
  },
  {
   "cell_type": "code",
   "execution_count": null,
   "metadata": {},
   "outputs": [],
   "source": [
    "cases = df_data.groupby([\"Onset Date\", \"County\"])['Case Count'].sum().reset_index()\n",
    "cases[\"State\"] = \"Ohio\"\n",
    "cases = cases.rename(columns={\"Onset Date\":\"Date\", \"Case Count\":\"Cases\"})\n",
    "# cases = cases.set_index([\"State\", \"Date\", \"County\"])\n",
    "cases"
   ]
  },
  {
   "cell_type": "code",
   "execution_count": null,
   "metadata": {},
   "outputs": [],
   "source": [
    "death_data = df_data[ df_data[\"Date Of Death\"] != \"Unknown\"]\n",
    "death_data = death_data[ death_data[\"Date Of Death\"].notnull()]\n",
    "death_data[\"Date Of Death\"] = pd.to_datetime( death_data[\"Date Of Death\"])\n",
    "deaths = death_data.groupby([\"Date Of Death\", \"County\"])['Death Due to Illness Count'].sum().reset_index()\n",
    "deaths[\"State\"] = \"Ohio\"\n",
    "deaths = deaths.rename( columns={\"Date Of Death\":\"Date\", \"Death Due to Illness Count\":\"Deaths\"})\n",
    "# deaths = deaths.set_index([\"State\", \"Date\", \"County\"])\n",
    "deaths"
   ]
  },
  {
   "cell_type": "code",
   "execution_count": null,
   "metadata": {},
   "outputs": [],
   "source": [
    "total_data = pd.merge(cases, deaths, left_on=[\"State\", \"Date\", \"County\"], right_on=[\"State\", \"Date\", \"County\"])\n",
    "total_data.to_csv(\"../data/processed/by_county/ohio.csv\", index=False)\n",
    "total_data"
   ]
  },
  {
   "cell_type": "code",
   "execution_count": null,
   "metadata": {},
   "outputs": [],
   "source": [
    "# tests from https://covidtracking.com/data\n",
    "df_tracker = pd.read_csv(\"https://covidtracking.com/data/download/all-states-history.csv\")\n",
    "df_tracker[\"date\"] = pd.to_datetime(df_tracker[\"date\"])\n",
    "ohio = df_tracker[ df_tracker[\"state\"] == \"OH\"].sort_values(\"date\", ascending = True)"
   ]
  },
  {
   "cell_type": "code",
   "execution_count": null,
   "metadata": {},
   "outputs": [],
   "source": [
    "total_data2 = ohio[[\"date\", \"positive\", \"negative\",\"death\"]].copy()\n",
    "total_data2 = total_data2.rename(columns={\"date\":\"Date\",\"positive\":\"Positive\", \"negative\":\"Negative\", \"death\":\"Deaths\"})\n",
    "total_data2 = pd.merge( total_data2, total_data.groupby([\"Date\"])[\"Cases\"].sum(), left_on=\"Date\", right_on=\"Date\")\n",
    "total_data2[\"State\"] = \"Ohio\"\n",
    "total_data2 = total_data2.fillna(0)\n",
    "for c in [\"Positive\", \"Negative\", \"Deaths\"]:\n",
    "    total_data2[c] = total_data2[c].astype(int)\n",
    "total_data2.to_csv(\"../data/processed/by_state/ohio.csv\", index=False)\n",
    "total_data2"
   ]
  },
  {
   "cell_type": "code",
   "execution_count": null,
   "metadata": {},
   "outputs": [],
   "source": []
  }
 ],
 "metadata": {
  "kernelspec": {
   "display_name": "Python 3",
   "language": "python",
   "name": "python3"
  },
  "language_info": {
   "codemirror_mode": {
    "name": "ipython",
    "version": 3
   },
   "file_extension": ".py",
   "mimetype": "text/x-python",
   "name": "python",
   "nbconvert_exporter": "python",
   "pygments_lexer": "ipython3",
   "version": "3.8.5"
  }
 },
 "nbformat": 4,
 "nbformat_minor": 4
}
