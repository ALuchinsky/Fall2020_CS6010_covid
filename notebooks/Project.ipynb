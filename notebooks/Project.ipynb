{
 "cells": [
  {
   "cell_type": "code",
   "execution_count": null,
   "metadata": {},
   "outputs": [],
   "source": [
    "import pandas as pd\n",
    "import numpy as np\n",
    "\n",
    "import os\n",
    "import glob\n",
    "import requests\n",
    "\n",
    "import seaborn as sns\n",
    "import matplotlib.pyplot as plt\n",
    "\n",
    "import geopandas as gp"
   ]
  },
  {
   "cell_type": "code",
   "execution_count": null,
   "metadata": {},
   "outputs": [],
   "source": [
    "#Note: If you do not have the preprocessed files in the ../data/processed directory things will not work and some states will be missing.\n",
    "# You need to run the state file to make this happen!\n",
    "\n",
    "byCountyDf = pd.concat(map(pd.read_csv,  glob.glob('../data/processed/by_county/*')))\n",
    "byStateDf = pd.concat(map(pd.read_csv,  glob.glob('../data/processed/by_state/*')))\n",
    "excessCdcDeathsDf = pd.read_csv(\"https://data.cdc.gov/api/views/muzy-jte6/rows.csv?accessType=DOWNLOAD\")\n",
    "excessCdcDeathsDf[\"Week Ending Date\"] = pd.to_datetime( excessCdcDeathsDf[\"Week Ending Date\"])"
   ]
  },
  {
   "cell_type": "code",
   "execution_count": null,
   "metadata": {},
   "outputs": [],
   "source": [
    "byCountyDf[\"Date\"] = pd.to_datetime( byCountyDf[\"Date\"])\n",
    "byCountyDf[\"WeekNumber\"] = byCountyDf[\"Date\"].dt.isocalendar().week\n",
    "byStateDf[\"Date\"] = pd.to_datetime( byStateDf[\"Date\"])\n",
    "byStateDf[\"WeekNumber\"] = byStateDf[\"Date\"].dt.isocalendar().week\n",
    "excessCdcDeathsDf[\"WeekNumber\"] = excessCdcDeathsDf[\"Week Ending Date\"].dt.isocalendar().week"
   ]
  },
  {
   "cell_type": "code",
   "execution_count": null,
   "metadata": {},
   "outputs": [],
   "source": [
    "# tests from https://covidtracking.com/data\n",
    "df_tracker = pd.read_csv(\"https://covidtracking.com/data/download/all-states-history.csv\")\n",
    "df_tracker[\"date\"] = pd.to_datetime(df_tracker[\"date\"])\n",
    "df_tracker[\"WeekNumber\"] = df_tracker[\"date\"].dt.isocalendar().week"
   ]
  },
  {
   "cell_type": "markdown",
   "metadata": {},
   "source": [
    "## Compare with COVID tracker"
   ]
  },
  {
   "cell_type": "code",
   "execution_count": null,
   "metadata": {},
   "outputs": [],
   "source": [
    "fig, axes = plt.subplots(figsize = (20, 7), nrows = 1, ncols = 3, sharey=True)\n",
    "for state, st, ax in zip([\"Ohio\",\"Michigan\",\"Indiana\"], [\"OH\", \"MI\", \"IN\"], axes):\n",
    "    byStateDf[ byStateDf[\"State\"] == state].groupby(\"Date\")[\"Deaths\"].sum().plot(ax = ax, label = \"state\")\n",
    "    df_tracker[ df_tracker[\"state\"] == st].groupby(\"date\")[\"deathIncrease\"].sum().plot(ax=ax, label = \"tracker\")\n",
    "    ax.set_title(state)\n",
    "axes[0].legend()\n",
    "axes[0].set_ylabel(\"Deaths\")\n",
    "plt.tight_layout()"
   ]
  },
  {
   "cell_type": "code",
   "execution_count": null,
   "metadata": {},
   "outputs": [],
   "source": [
    "fig, axes = plt.subplots(figsize = (20, 7), nrows = 1, ncols = 3, sharey=True)\n",
    "for state, st, ax in zip([\"Ohio\",\"Michigan\",\"Indiana\"], [\"OH\", \"MI\", \"IN\"], axes):\n",
    "    byStateDf[ byStateDf[\"State\"] == state].groupby(\"Date\")[\"Deaths\"].sum().cumsum().plot(ax = ax, label = \"state\")\n",
    "    df_tracker[ df_tracker[\"state\"] == st].groupby(\"date\")[\"death\"].sum().plot(ax=ax, label = \"tracker\")\n",
    "    ax.set_title(state)\n",
    "axes[0].legend()\n",
    "axes[0].set_ylabel(\"Cummulative Deaths\")\n",
    "plt.tight_layout()"
   ]
  },
  {
   "cell_type": "markdown",
   "metadata": {},
   "source": [
    "## Compare Deaths statistics"
   ]
  },
  {
   "cell_type": "code",
   "execution_count": null,
   "metadata": {},
   "outputs": [],
   "source": [
    "for st in byCountyDf[\"State\"].unique():\n",
    "    byStateDf[ byStateDf[\"State\"] == st].groupby(\"WeekNumber\")[\"Deaths\"].sum().plot(label=st)\n",
    "plt.legend()"
   ]
  },
  {
   "cell_type": "code",
   "execution_count": null,
   "metadata": {},
   "outputs": [],
   "source": [
    "st = \"Ohio\"\n",
    "fig = plt.figure(figsize = (10,10))\n",
    "byStateDf[ byStateDf[\"State\"] == st].groupby(\"WeekNumber\")[\"Deaths\"].sum().plot(label=\"COVID\")\n",
    "for cause in [\n",
    "    'Symptoms, signs and abnormal clinical and laboratory findings, not elsewhere classified (R00-R99)',\n",
    "    'Malignant neoplasms (C00-C97)',\n",
    "    'Alzheimer disease (G30)',\n",
    "    \"Diseases of heart (I00-I09,I11,I13,I20-I51)\",\n",
    "    \"Influenza and pneumonia (J09-J18)\",\n",
    "    'COVID-19 (U071, Multiple Cause of Death)']:\n",
    "    data = excessCdcDeathsDf[ excessCdcDeathsDf[\"Jurisdiction of Occurrence\"]==st]\\\n",
    "        .groupby(\"WeekNumber\")[cause].mean().rolling(window=3).mean()\n",
    "    data.plot()\n",
    "plt.ylim(0, 1200)\n",
    "plt.legend()\n",
    "plt.grid()\n",
    "plt.title(st)\n",
    "plt.show()"
   ]
  },
  {
   "cell_type": "code",
   "execution_count": null,
   "metadata": {},
   "outputs": [],
   "source": [
    "fig, axes = plt.subplots(figsize = (20, 10), nrows = 1, ncols = 3, sharey=True)\n",
    "for st, ax in zip([\"Michigan\",\"Ohio\",  \"Indiana\"], axes):\n",
    "    byStateDf[ byStateDf[\"State\"] == st].groupby(\"WeekNumber\")[\"Deaths\"].sum().plot(label=\"COVID\", ax=ax)\n",
    "    for cause in [\n",
    "        'Symptoms, signs and abnormal clinical and laboratory findings, not elsewhere classified (R00-R99)',\n",
    "        'Malignant neoplasms (C00-C97)',\n",
    "        'Alzheimer disease (G30)',\n",
    "        \"Diseases of heart (I00-I09,I11,I13,I20-I51)\",\n",
    "        \"Influenza and pneumonia (J09-J18)\"]:\n",
    "        data = excessCdcDeathsDf[ excessCdcDeathsDf[\"Jurisdiction of Occurrence\"]==st]\\\n",
    "            .groupby(\"WeekNumber\")[cause].mean().rolling(window=2).mean()\n",
    "        data.plot(ax=ax)\n",
    "    ax.set_ylim(0)\n",
    "    ax.set_title(st)\n",
    "axes[-1].legend()\n",
    "plt.show()"
   ]
  },
  {
   "cell_type": "code",
   "execution_count": null,
   "metadata": {},
   "outputs": [],
   "source": []
  }
 ],
 "metadata": {
  "kernelspec": {
   "display_name": "Python 3",
   "language": "python",
   "name": "python3"
  },
  "language_info": {
   "codemirror_mode": {
    "name": "ipython",
    "version": 3
   },
   "file_extension": ".py",
   "mimetype": "text/x-python",
   "name": "python",
   "nbconvert_exporter": "python",
   "pygments_lexer": "ipython3",
   "version": "3.8.5"
  }
 },
 "nbformat": 4,
 "nbformat_minor": 4
}
