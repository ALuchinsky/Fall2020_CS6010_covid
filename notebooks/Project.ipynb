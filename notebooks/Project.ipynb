{
 "cells": [
  {
   "source": [
    "# Setup"
   ],
   "cell_type": "markdown",
   "metadata": {}
  },
  {
   "cell_type": "code",
   "execution_count": null,
   "metadata": {},
   "outputs": [],
   "source": [
    "import pandas as pd\n",
    "import numpy as np\n",
    "\n",
    "import os\n",
    "import glob\n",
    "import requests\n",
    "\n",
    "import seaborn as sns\n",
    "import matplotlib.pyplot as plt\n",
    "\n",
    "import geopandas as gp"
   ]
  },
  {
   "source": [
    "## Import the preprocessed dataframes"
   ],
   "cell_type": "markdown",
   "metadata": {}
  },
  {
   "cell_type": "code",
   "execution_count": null,
   "metadata": {},
   "outputs": [],
   "source": [
    "#Note: If you do not have the preprocessed files in the ../data/processed directory things will not work and some states will be missing.\n",
    "# You need to run the state file to make this happen!\n",
    "\n",
    "byCountyDf = pd.concat(map(pd.read_csv, glob.glob('../data/processed/by_county/*')))\n",
    "byStateDf = pd.concat(map(pd.read_csv, glob.glob('../data/processed/by_state/*')))\n",
    "excessCdcDeathsDf = pd.read_csv(\"https://data.cdc.gov/api/views/muzy-jte6/rows.csv?accessType=DOWNLOAD\")"
   ]
  },
  {
   "source": [
    "## Setup data types for dataframes"
   ],
   "cell_type": "markdown",
   "metadata": {}
  },
  {
   "cell_type": "code",
   "execution_count": null,
   "metadata": {},
   "outputs": [],
   "source": [
    "byCountyDf.dtypes"
   ]
  },
  {
   "cell_type": "code",
   "execution_count": null,
   "metadata": {},
   "outputs": [],
   "source": [
    "byCountyDf['Date']   = pd.to_datetime(byCountyDf['Date'])\n",
    "byCountyDf['State'] = byCountyDf['State'].astype('category')\n",
    "byCountyDf['County'] = byCountyDf['County'].astype('category')"
   ]
  },
  {
   "cell_type": "code",
   "execution_count": null,
   "metadata": {},
   "outputs": [],
   "source": [
    "byCountyDf.dtypes"
   ]
  },
  {
   "cell_type": "code",
   "execution_count": null,
   "metadata": {},
   "outputs": [],
   "source": [
    "byStateDf.dtypes"
   ]
  },
  {
   "cell_type": "code",
   "execution_count": null,
   "metadata": {},
   "outputs": [],
   "source": [
    "byStateDf['Date']   = pd.to_datetime(byStateDf['Date'])\n",
    "byStateDf['State'] = byStateDf['State'].astype('category')"
   ]
  },
  {
   "cell_type": "code",
   "execution_count": null,
   "metadata": {},
   "outputs": [],
   "source": [
    "byStateDf.dtypes"
   ]
  },
  {
   "cell_type": "code",
   "execution_count": null,
   "metadata": {},
   "outputs": [],
   "source": []
  }
 ],
 "metadata": {
  "kernelspec": {
   "display_name": "Python 3",
   "language": "python",
   "name": "python3"
  },
  "language_info": {
   "codemirror_mode": {
    "name": "ipython",
    "version": 3
   },
   "file_extension": ".py",
   "mimetype": "text/x-python",
   "name": "python",
   "nbconvert_exporter": "python",
   "pygments_lexer": "ipython3",
   "version": "3.8.5-final"
  }
 },
 "nbformat": 4,
 "nbformat_minor": 4
}