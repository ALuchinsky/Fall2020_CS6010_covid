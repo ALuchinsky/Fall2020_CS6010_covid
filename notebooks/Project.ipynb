{
 "cells": [
  {
   "cell_type": "code",
   "execution_count": null,
   "metadata": {},
   "outputs": [],
   "source": [
    "byStateDf[\"State\"].unique()\n",
    "byStateDf"
   ]
  },
  {
   "source": [
    "# Setup"
   ],
   "cell_type": "markdown",
   "metadata": {}
  },
  {
   "cell_type": "code",
   "execution_count": null,
   "metadata": {},
   "outputs": [],
   "source": [
    "import pandas as pd\n",
    "import numpy as np\n",
    "\n",
    "import os\n",
    "import glob\n",
    "import requests\n",
    "\n",
    "import seaborn as sns\n",
    "import matplotlib.pyplot as plt\n",
    "\n",
    "import geopandas as gp\n",
    "\n",
    "from zipfile import ZipFile\n",
    "import urllib.request\n",
    "from os import path\n",
    "\n",
    "# Import us state abbreviation dict\n",
    "%run scripts/us_state_abbrev.py"
   ]
  },
  {
   "source": [
    "## Import the preprocessed dataframes"
   ],
   "cell_type": "markdown",
   "metadata": {}
  },
  {
   "cell_type": "code",
   "execution_count": null,
   "metadata": {},
   "outputs": [],
   "source": [
    "#Note: If you do not have the preprocessed files in the ../data/processed directory things will not work and some states will be missing.\n",
    "# You need to run the state file to make this happen!\n",
    "\n",
    "byCountyDf = pd.concat(map(pd.read_csv,  glob.glob('../data/processed/by_county/*')))\n",
    "byStateDf = pd.concat(map(pd.read_csv,  glob.glob('../data/processed/by_state/*')))"
   ]
  },
  {
   "cell_type": "code",
   "execution_count": null,
   "metadata": {},
   "outputs": [],
   "source": [
    "# CDC Death data\n",
    "excessCdcDeathsDf = pd.read_csv(\"https://data.cdc.gov/api/views/muzy-jte6/rows.csv?accessType=DOWNLOAD\")\n",
    "\n",
    "# tests from https://covidtracking.com/data\n",
    "df_tracker = pd.read_csv(\"https://covidtracking.com/data/download/all-states-history.csv\")"
   ]
  },
  {
   "source": [
    "## Import GeoJSON files"
   ],
   "cell_type": "markdown",
   "metadata": {}
  },
  {
   "cell_type": "code",
   "execution_count": null,
   "metadata": {},
   "outputs": [],
   "source": [
    "zipPath = \"../data/raw/hcc-survival.zip\"\n",
    "if not path.exists(zipPath):\n",
    "    url = \"https://github.com/deldersveld/topojson/archive/master.zip\"\n",
    "    exportIntermediatePath = '../data/raw/'\n",
    "    urllib.request.urlretrieve(url, zipPath)\n",
    "    with ZipFile(zipPath, 'r') as zippedFile:\n",
    "        zippedFile.extractall(exportIntermediatePath)"
   ]
  },
  {
   "source": [
    "## Setup data types for dataframes"
   ],
   "cell_type": "markdown",
   "metadata": {}
  },
  {
   "cell_type": "code",
   "execution_count": null,
   "metadata": {},
   "outputs": [],
   "source": [
    "byCountyDf['Date']       = pd.to_datetime(byCountyDf['Date'])\n",
    "byCountyDf['State']      = byCountyDf['State'].astype('category')\n",
    "byCountyDf['County']     = byCountyDf['County'].astype('category')\n",
    "byCountyDf[\"WeekNumber\"] = byCountyDf[\"Date\"].dt.isocalendar().week\n",
    "\n",
    "byStateDf['Date']        = pd.to_datetime(byStateDf['Date'])\n",
    "byStateDf['State']       = byStateDf['State'].astype('category')\n",
    "byStateDf[\"WeekNumber\"]  = byStateDf[\"Date\"].dt.isocalendar().week\n",
    "byStateDf[\"Tests\"]       = byStateDf[\"Positive\"] + byStateDf[\"Negative\"]\n",
    "\n",
    "excessCdcDeathsDf[\"Week Ending Date\"] = pd.to_datetime( excessCdcDeathsDf[\"Week Ending Date\"])\n",
    "excessCdcDeathsDf[\"WeekNumber\"] = excessCdcDeathsDf[\"Week Ending Date\"].dt.isocalendar().week\n",
    "\n",
    "df_tracker[\"date\"] = pd.to_datetime(df_tracker[\"date\"])\n",
    "df_tracker[\"WeekNumber\"] = df_tracker[\"date\"].dt.isocalendar().week"
   ]
  },
  {
   "source": [
    "## Additional setups"
   ],
   "cell_type": "markdown",
   "metadata": {}
  },
  {
   "cell_type": "code",
   "execution_count": null,
   "metadata": {},
   "outputs": [],
   "source": [
    "states = { state: us_state_abbrev[state] for state in byStateDf['State'].unique() }\n",
    "states"
   ]
  },
  {
   "source": [
    "# Analysis\n",
    "## Compare with COVID Tracker"
   ],
   "cell_type": "markdown",
   "metadata": {}
  },
  {
   "cell_type": "code",
   "execution_count": null,
   "metadata": {},
   "outputs": [],
   "source": [
    "fig, axes = plt.subplots(ncols = len(states), sharex=True, sharey=True, figsize = (12, 5))\n",
    "for state, st, ax in zip(list(states.keys()), list(states.values()), axes):\n",
    "    byStateDf[ byStateDf[\"State\"] == state].groupby(\"Date\")[\"Deaths\"].sum().plot(ax = ax, label = \"State Health Dep.\")\n",
    "    df_tracker[ df_tracker[\"state\"] == st].groupby(\"date\")[\"deathIncrease\"].sum().plot(ax=ax, label = \"COVIDTracking Proj.\")\n",
    "    ax.set_title(state)\n",
    "axes[0].legend()\n",
    "axes[0].set_ylabel(\"Deaths\")\n",
    "plt.tight_layout()\n",
    "plt.savefig(\"../report/figs/raw_tracker_comp_nc.pdf\")"
   ]
  },
  {
   "cell_type": "code",
   "execution_count": null,
   "metadata": {},
   "outputs": [],
   "source": [
    "fig, axes = plt.subplots(ncols = len(states), sharex=True, sharey=True, figsize = (12, 5))\n",
    "for state, st, ax in zip(list(states.keys()), list(states.values()), axes):\n",
    "    byStateDf[ byStateDf[\"State\"] == state].groupby(\"Date\")[\"Deaths\"].sum().cumsum().plot(ax = ax, label = \"State Health Dep.\")\n",
    "    df_tracker[ df_tracker[\"state\"] == st].groupby(\"date\")[\"death\"].sum().plot(ax=ax, label = \"COVIDTracking Proj.\")\n",
    "    ax.set_title(state)\n",
    "axes[0].legend()\n",
    "axes[0].set_ylabel(\"Cummulative Deaths\")\n",
    "plt.tight_layout()\n",
    "plt.savefig(\"../report/figs/raw_tracker_comp_cum.pdf\")"
   ]
  },
  {
   "cell_type": "markdown",
   "metadata": {},
   "source": [
    "## Compare Deaths statistics"
   ]
  },
  {
   "cell_type": "code",
   "execution_count": null,
   "metadata": {},
   "outputs": [],
   "source": [
    "for st in byCountyDf[\"State\"].unique():\n",
    "    byStateDf[ byStateDf[\"State\"] == st].groupby(\"WeekNumber\")[\"Deaths\"].sum().plot(label=st)\n",
    "plt.legend()\n",
    "plt.show()"
   ]
  },
  {
   "cell_type": "code",
   "execution_count": null,
   "metadata": {},
   "outputs": [],
   "source": [
    "st = \"Ohio\"\n",
    "fig = plt.figure(figsize = (10,10))\n",
    "byStateDf[ byStateDf[\"State\"] == st].groupby(\"WeekNumber\")[\"Deaths\"].sum().plot(label=\"COVID-19\")\n",
    "for cause in [\n",
    "    'Symptoms, signs and abnormal clinical and laboratory findings, not elsewhere classified (R00-R99)',\n",
    "    'Malignant neoplasms (C00-C97)',\n",
    "    'Alzheimer disease (G30)',\n",
    "    \"Diseases of heart (I00-I09,I11,I13,I20-I51)\",\n",
    "    \"Influenza and pneumonia (J09-J18)\",\n",
    "    'COVID-19 (U071, Multiple Cause of Death)']:\n",
    "    data = excessCdcDeathsDf[ excessCdcDeathsDf[\"Jurisdiction of Occurrence\"]==st]\\\n",
    "        .groupby(\"WeekNumber\")[cause].mean().rolling(window=3).mean()\n",
    "    data.plot()\n",
    "plt.ylim(0, 1200)\n",
    "plt.legend()\n",
    "plt.grid()\n",
    "plt.title(st)\n",
    "plt.show()"
   ]
  },
  {
   "cell_type": "code",
   "execution_count": null,
   "metadata": {},
   "outputs": [],
   "source": [
    "fig, axes = plt.subplots(ncols = len(states), sharex=True, sharey=True, figsize = (12, 5))\n",
    "for st, ax in zip(states.keys(), axes):\n",
    "    byStateDf[ byStateDf[\"State\"] == st].groupby(\"WeekNumber\")[\"Deaths\"].sum().plot(label=\"COVID-19\", ax=ax)\n",
    "    for cause in [\n",
    "        'Symptoms, signs and abnormal clinical and laboratory findings, not elsewhere classified (R00-R99)',\n",
    "        'Malignant neoplasms (C00-C97)',\n",
    "        'Alzheimer disease (G30)',\n",
    "        \"Diseases of heart (I00-I09,I11,I13,I20-I51)\",\n",
    "        \"Influenza and pneumonia (J09-J18)\"]:\n",
    "        data = excessCdcDeathsDf[ excessCdcDeathsDf[\"Jurisdiction of Occurrence\"]==st]\\\n",
    "            .groupby(\"WeekNumber\")[cause].mean().rolling(window=2).mean()\n",
    "        data.plot(ax=ax)\n",
    "    ax.set_ylim(0)\n",
    "    ax.set_title(st)\n",
    "axes[-1].legend()\n",
    "plt.savefig(\"../report/figs/weekly_deaths.pdf\")\n",
    "plt.show()\n"
   ]
  },
  {
   "source": [
    "## Look at population changes"
   ],
   "cell_type": "markdown",
   "metadata": {}
  },
  {
   "cell_type": "code",
   "execution_count": null,
   "metadata": {},
   "outputs": [],
   "source": [
    "# from https://www.census.gov/data/datasets/time-series/demo/popest/2010s-state-total.html#par_textimage_1873399417\n",
    "df_population = \\\n",
    "    pd.read_excel(\"https://www2.census.gov/programs-surveys/popest/tables/2010-2019/state/totals/nst-est2019-01.xlsx\")\n",
    "\n",
    "df_Population = pd.DataFrame(\n",
    "    index = df_population.iloc[3:59,0].str.replace(\".\",\"\").str.upper(), \n",
    "    columns =list(df_population.iloc[2,3:])\n",
    ")\n",
    "df_Population = pd.DataFrame( df_population.iloc[3:59, 3:] )\n",
    "df_Population = df_Population.set_index(df_population.iloc[3:59,0].str.replace(\".\",\"\").str.upper())\n",
    "df_Population = df_Population.rename(columns=df_population.iloc[2,3:].astype(int))\n",
    "df_Population.index.names = [\"Territory\"]"
   ]
  },
  {
   "cell_type": "code",
   "execution_count": null,
   "metadata": {},
   "outputs": [],
   "source": [
    "for state in states:\n",
    "    pop_State = df_Population.loc[state.upper(),:]\n",
    "    print(state + \" population: %d +- %d ( %.2f %%)\" % \n",
    "        ( pop_State.mean(), pop_State.std(), 100*pop_State.std()/pop_State.mean())\n",
    "        )\n"
   ]
  },
  {
   "source": [
    "## Testing"
   ],
   "cell_type": "markdown",
   "metadata": {}
  },
  {
   "cell_type": "code",
   "execution_count": null,
   "metadata": {},
   "outputs": [],
   "source": [
    "for state in states.keys():\n",
    "    indStateDf = byStateDf[byStateDf[\"State\"] == state]\n",
    "    sns.lineplot(data = indStateDf, x=\"Date\", y=\"Tests\", label = \"totalTestResults\")\n",
    "    sns.lineplot(data = indStateDf, x=\"Date\", y=\"Positive\", label = \"positive\")\n",
    "    sns.lineplot(data = indStateDf, x=\"Date\", y=\"Negative\", label = \"negative\")\n",
    "    plt.xticks(rotation = 90)\n",
    "    ax.set_title(state)\n",
    "    axes[0].legend()\n",
    "    plt.show()"
   ]
  },
  {
   "source": [
    "## GeoJSON"
   ],
   "cell_type": "markdown",
   "metadata": {}
  },
  {
   "cell_type": "code",
   "execution_count": null,
   "metadata": {},
   "outputs": [],
   "source": [
    "# Get the right states from https://github.com/deldersveld/topojson/tree/master/countries/us-states\n",
    "\n",
    "geoJsonPaths = {}\n",
    "for st in states.values():\n",
    "    geoJsonPaths[st] = glob.glob('../data/raw/topojson-master/countries/us-states/' + st + \"*\")"
   ]
  },
  {
   "cell_type": "code",
   "execution_count": null,
   "metadata": {},
   "outputs": [],
   "source": [
    "for state, st in states.items():\n",
    "    geoDataFrame = gp.read_file(geoJsonPaths[st][0])\n",
    "\n",
    "    countyDataFrame = byCountyDf[byCountyDf[\"State\"] == state].groupby([\"County\"]).sum()\n",
    "    geoDataFrameMerged = geoDataFrame.merge(countyDataFrame, right_on=\"County\", left_on=\"NAME\")\n",
    "\n",
    "    geoDataFrameMerged[\"center\"] = geoDataFrameMerged[\"geometry\"].centroid\n",
    "    countyNames = geoDataFrameMerged.copy()\n",
    "    countyNames.set_geometry(\"center\", inplace=True)\n",
    "\n",
    "    # Plot cases\n",
    "    ax = geoDataFrameMerged.plot(column=\"Cases\", legend=True, figsize=(15,10), cmap='YlOrRd')\n",
    "\n",
    "    for x, y, label in zip(countyNames.geometry.x, countyNames.geometry.y, countyNames[\"NAME\"]):\n",
    "        plt.text(x, y, label, fontsize = 10)\n",
    "\n",
    "    # Plot deaths\n",
    "    ax = geoDataFrameMerged.plot(column=\"Deaths\", legend=True, figsize=(15,10), cmap='YlOrRd')\n",
    "\n",
    "    for x, y, label in zip(countyNames.geometry.x, countyNames.geometry.y, countyNames[\"NAME\"]):\n",
    "        plt.text(x, y, label, fontsize = 10)"
   ]
  },
  {
   "cell_type": "code",
   "execution_count": null,
   "metadata": {},
   "outputs": [],
   "source": []
  }
 ],
 "metadata": {
  "kernelspec": {
   "display_name": "Python 3",
   "language": "python",
   "name": "python3"
  },
  "language_info": {
   "codemirror_mode": {
    "name": "ipython",
    "version": 3
   },
   "file_extension": ".py",
   "mimetype": "text/x-python",
   "name": "python",
   "nbconvert_exporter": "python",
   "pygments_lexer": "ipython3",
   "version": "3.8.5-final"
  }
 },
 "nbformat": 4,
 "nbformat_minor": 4
}