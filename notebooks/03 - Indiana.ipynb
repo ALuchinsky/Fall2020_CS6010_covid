{
 "cells": [
  {
   "cell_type": "markdown",
   "metadata": {},
   "source": [
    "# COVID-19 Statistics for Indiana"
   ]
  },
  {
   "cell_type": "markdown",
   "metadata": {},
   "source": [
    "## Imports"
   ]
  },
  {
   "cell_type": "code",
   "execution_count": null,
   "metadata": {},
   "outputs": [],
   "source": [
    "import pandas as pd\n",
    "import numpy as np\n",
    "import seaborn as sns\n",
    "import matplotlib.pyplot as plt\n",
    "import geopandas as gp"
   ]
  },
  {
   "cell_type": "markdown",
   "metadata": {},
   "source": [
    "## Constants"
   ]
  },
  {
   "cell_type": "code",
   "execution_count": null,
   "metadata": {},
   "outputs": [],
   "source": [
    "indianaCaseDataUrl = \"https://hub.mph.in.gov/dataset/bd08cdd3-9ab1-4d70-b933-41f9ef7b809d/resource/afaa225d-ac4e-4e80-9190-f6800c366b58/download/covid_report_county_date.xlsx\"\n",
    "indianaCaseDataDictUrl= \"https://hub.mph.in.gov/dataset/bd08cdd3-9ab1-4d70-b933-41f9ef7b809d/resource/5ff3931f-aa68-4ee6-ac1d-d6c5d6cca50a/download/covid_report_county_date_dictionary.xlsx\""
   ]
  },
  {
   "cell_type": "markdown",
   "metadata": {},
   "source": [
    "## Data Import"
   ]
  },
  {
   "cell_type": "code",
   "execution_count": null,
   "metadata": {},
   "outputs": [],
   "source": [
    "df = pd.read_excel(indianaCaseDataUrl)\n",
    "dfDict = pd.read_excel(indianaCaseDataDictUrl)"
   ]
  },
  {
   "cell_type": "markdown",
   "metadata": {},
   "source": [
    "## Data Assessment"
   ]
  },
  {
   "cell_type": "code",
   "execution_count": null,
   "metadata": {},
   "outputs": [],
   "source": [
    "df"
   ]
  },
  {
   "cell_type": "markdown",
   "metadata": {},
   "source": [
    "### Missing Data"
   ]
  },
  {
   "cell_type": "code",
   "execution_count": null,
   "metadata": {
    "scrolled": true
   },
   "outputs": [],
   "source": [
    "numberOfRows = df.shape[0]\n",
    "100 * (numberOfRows - df.count()) / numberOfRows"
   ]
  },
  {
   "cell_type": "markdown",
   "metadata": {},
   "source": [
    "No missing data means we don't need to drop data or impute values."
   ]
  },
  {
   "cell_type": "markdown",
   "metadata": {},
   "source": [
    "### Dataframe column data types"
   ]
  },
  {
   "cell_type": "code",
   "execution_count": null,
   "metadata": {
    "scrolled": true
   },
   "outputs": [],
   "source": [
    "df.dtypes"
   ]
  },
  {
   "cell_type": "markdown",
   "metadata": {},
   "source": [
    "#### Fix incorrect column data types"
   ]
  },
  {
   "cell_type": "code",
   "execution_count": null,
   "metadata": {},
   "outputs": [],
   "source": [
    "df.DATE = pd.to_datetime(df.DATE)\n",
    "df.COUNTY_NAME = df.COUNTY_NAME.astype('category')"
   ]
  },
  {
   "cell_type": "markdown",
   "metadata": {},
   "source": [
    "### Updated column data types"
   ]
  },
  {
   "cell_type": "code",
   "execution_count": null,
   "metadata": {},
   "outputs": [],
   "source": [
    "df.dtypes"
   ]
  },
  {
   "cell_type": "code",
   "execution_count": null,
   "metadata": {},
   "outputs": [],
   "source": [
    "df.COVID_COUNT.sum()"
   ]
  },
  {
   "cell_type": "code",
   "execution_count": null,
   "metadata": {
    "scrolled": false
   },
   "outputs": [],
   "source": [
    "df[['COUNTY_NAME', 'COVID_COUNT']].groupby('COUNTY_NAME').sum('COVID_COUNT')"
   ]
  },
  {
   "cell_type": "code",
   "execution_count": null,
   "metadata": {},
   "outputs": [],
   "source": [
    "dailyCaseDeathIndiana = df[['DATE','COVID_COUNT','COVID_DEATHS']].groupby('DATE').sum()"
   ]
  },
  {
   "cell_type": "code",
   "execution_count": null,
   "metadata": {},
   "outputs": [],
   "source": [
    "sns.pairplot(dailyCaseDeathIndiana)"
   ]
  },
  {
   "cell_type": "code",
   "execution_count": null,
   "metadata": {},
   "outputs": [],
   "source": [
    "df.head()"
   ]
  },
  {
   "cell_type": "code",
   "execution_count": null,
   "metadata": {},
   "outputs": [],
   "source": [
    "dailyCaseDeathCountyIndiana = df.groupby(['COUNTY_NAME','DATE']).sum().groupby(level=0).cumsum().reset_index()"
   ]
  },
  {
   "cell_type": "code",
   "execution_count": null,
   "metadata": {
    "scrolled": false
   },
   "outputs": [],
   "source": [
    "plt.figure(figsize = (16,9))\n",
    "sns.lineplot(y = \"COVID_DEATHS\", x = \"DATE\", hue=\"COUNTY_NAME\", data=dailyCaseDeathCountyIndiana, legend=None)"
   ]
  },
  {
   "cell_type": "code",
   "execution_count": null,
   "metadata": {},
   "outputs": [],
   "source": [
    "indianaCountyGeoJSONURL = \"https://raw.githubusercontent.com/deldersveld/topojson/master/countries/us-states/IN-18-indiana-counties.json\""
   ]
  },
  {
   "cell_type": "markdown",
   "metadata": {},
   "source": [
    "Citation:\n",
    "\n",
    "Eldersveld, D. (2020) TopoJSON Collection (Version 1.0) [Source Code]. https://github.com/deldersveld/topojson."
   ]
  },
  {
   "cell_type": "code",
   "execution_count": null,
   "metadata": {},
   "outputs": [],
   "source": [
    "geoDataFrame = gp.read_file(indianaCountyGeoJSONURL)\n",
    "geoDataFrame.plot()"
   ]
  },
  {
   "cell_type": "code",
   "execution_count": null,
   "metadata": {},
   "outputs": [],
   "source": [
    "geoDataFrame.head()"
   ]
  },
  {
   "cell_type": "markdown",
   "metadata": {},
   "source": [
    "## Create a county organized Covid-19 DataFrame"
   ]
  },
  {
   "cell_type": "code",
   "execution_count": null,
   "metadata": {},
   "outputs": [],
   "source": [
    "countyDataFrame = df.groupby(['COUNTY_NAME']).sum()"
   ]
  },
  {
   "cell_type": "markdown",
   "metadata": {},
   "source": [
    "## Merge GeoJSON with Covid-19 DataFrame"
   ]
  },
  {
   "cell_type": "code",
   "execution_count": null,
   "metadata": {},
   "outputs": [],
   "source": [
    "geoDataFrameMerged = geoDataFrame.merge(countyDataFrame, right_on=\"COUNTY_NAME\", left_on=\"NAME\")"
   ]
  },
  {
   "cell_type": "code",
   "execution_count": null,
   "metadata": {},
   "outputs": [],
   "source": [
    "geoDataFrameMerged.head(5)"
   ]
  },
  {
   "cell_type": "markdown",
   "metadata": {},
   "source": [
    "## Modify the DataFrame for centering labels for ease of comprehension."
   ]
  },
  {
   "cell_type": "code",
   "execution_count": null,
   "metadata": {},
   "outputs": [],
   "source": [
    "geoDataFrameMerged[\"center\"] = geoDataFrameMerged[\"geometry\"].centroid\n",
    "michiganCountyNames = geoDataFrameMerged.copy()\n",
    "michiganCountyNames.set_geometry(\"center\", inplace=True)"
   ]
  },
  {
   "cell_type": "markdown",
   "metadata": {},
   "source": [
    "## Plot Case County Data"
   ]
  },
  {
   "cell_type": "code",
   "execution_count": null,
   "metadata": {
    "scrolled": false
   },
   "outputs": [],
   "source": [
    "ax = geoDataFrameMerged.plot(column=\"COVID_COUNT\", legend=True, figsize=(15,10), cmap='YlOrRd')\n",
    "\n",
    "for x, y, label in zip(michiganCountyNames.geometry.x, michiganCountyNames.geometry.y, michiganCountyNames[\"NAME\"]):\n",
    "    plt.text(x, y, label, fontsize = 10)"
   ]
  },
  {
   "cell_type": "markdown",
   "metadata": {},
   "source": [
    "## Plot Death County Data"
   ]
  },
  {
   "cell_type": "code",
   "execution_count": null,
   "metadata": {},
   "outputs": [],
   "source": [
    "ax = geoDataFrameMerged.plot(column=\"COVID_DEATHS\", legend=True, figsize=(15,10), cmap='YlOrRd')\n",
    "\n",
    "for x, y, label in zip(michiganCountyNames.geometry.x, michiganCountyNames.geometry.y, michiganCountyNames[\"NAME\"]):\n",
    "    plt.text(x, y, label, fontsize = 10)"
   ]
  },
  {
   "cell_type": "markdown",
   "metadata": {},
   "source": [
    "## Plot Testing County Data"
   ]
  },
  {
   "cell_type": "code",
   "execution_count": null,
   "metadata": {},
   "outputs": [],
   "source": [
    "ax = geoDataFrameMerged.plot(column=\"COVID_TESTS\", legend=True, figsize=(15,10), cmap='YlOrRd')\n",
    "\n",
    "for x, y, label in zip(michiganCountyNames.geometry.x, michiganCountyNames.geometry.y, michiganCountyNames[\"NAME\"]):\n",
    "    plt.text(x, y, label, fontsize = 10)"
   ]
  },
  {
   "cell_type": "markdown",
   "metadata": {},
   "source": [
    "## Plot Positive Test Rate County Data"
   ]
  },
  {
   "cell_type": "code",
   "execution_count": null,
   "metadata": {},
   "outputs": [],
   "source": [
    "ax = geoDataFrameMerged.plot(column=\"POSITIVE_TEST_RATE\", legend=True, figsize=(15,10), cmap='YlOrRd')\n",
    "\n",
    "for x, y, label in zip(michiganCountyNames.geometry.x, michiganCountyNames.geometry.y, michiganCountyNames[\"NAME\"]):\n",
    "    plt.text(x, y, label, fontsize = 10)"
   ]
  },
  {
   "cell_type": "code",
   "execution_count": null,
   "metadata": {},
   "outputs": [],
   "source": [
    "df['State'] = 'Indiana'"
   ]
  },
  {
   "cell_type": "code",
   "execution_count": null,
   "metadata": {},
   "outputs": [],
   "source": [
    "byCountyDF = df.loc[:,['DATE','State','COUNTY_NAME','COVID_COUNT','COVID_DEATHS']]"
   ]
  },
  {
   "cell_type": "code",
   "execution_count": null,
   "metadata": {},
   "outputs": [],
   "source": [
    "byCountyDF.rename(columns={'DATE':'Date','State':'State','COUNTY_NAME':'County','COVID_COUNT':'Cases','COVID_DEATHS':'Deaths'}, inplace=True)"
   ]
  },
  {
   "cell_type": "code",
   "execution_count": null,
   "metadata": {},
   "outputs": [],
   "source": [
    "byCountyDF.to_csv('../data/processed/by_county/IN.csv', index=False)"
   ]
  },
  {
   "cell_type": "code",
   "execution_count": null,
   "metadata": {},
   "outputs": [],
   "source": [
    "byStateDF = df.groupby(['DATE']).sum().reset_index()\n",
    "byStateDF['STATE'] = 'Indiana'\n",
    "byStateDF['NEGATIVE'] = byStateDF['COVID_TESTS_ADMINISTRATED'] - byStateDF['COVID_POSITIVE_TESTS_ADMIN']\n",
    "byStateDF = byStateDF.loc[:,['DATE','STATE','COVID_COUNT','COVID_POSITIVE_TESTS_ADMIN','NEGATIVE','COVID_DEATHS']]"
   ]
  },
  {
   "cell_type": "code",
   "execution_count": null,
   "metadata": {},
   "outputs": [],
   "source": [
    "byStateDF.rename(columns={'DATE':'Date','STATE':'State','COVID_COUNT':'Cases','COVID_POSITIVE_TESTS_ADMIN':'Positive','NEGATIVE':'Negative', 'COVID_DEATHS':'Deaths'}, inplace=True)"
   ]
  },
  {
   "cell_type": "code",
   "execution_count": null,
   "metadata": {},
   "outputs": [],
   "source": [
    "byStateDF.to_csv('../data/processed/by_state/IN.csv', index=False)"
   ]
  }
 ],
 "metadata": {
  "kernelspec": {
   "display_name": "Python 3",
   "language": "python",
   "name": "python3"
  },
  "language_info": {
   "codemirror_mode": {
    "name": "ipython",
    "version": 3
   },
   "file_extension": ".py",
   "mimetype": "text/x-python",
   "name": "python",
   "nbconvert_exporter": "python",
   "pygments_lexer": "ipython3",
   "version": "3.8.6"
  }
 },
 "nbformat": 4,
 "nbformat_minor": 4
}
