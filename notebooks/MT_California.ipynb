{
 "cells": [
  {
   "cell_type": "code",
   "execution_count": null,
   "metadata": {},
   "outputs": [],
   "source": [
    "import pandas as pd\n",
    "import numpy as np\n",
    "import seaborn as sns\n",
    "import matplotlib.pyplot as plt\n",
    "import geopandas as gp"
   ]
  },
  {
   "cell_type": "code",
   "execution_count": null,
   "metadata": {},
   "outputs": [],
   "source": [
    "californiaCasesDeathsDf = pd.read_csv(\"https://data.ca.gov/dataset/590188d5-8545-4c93-a9a0-e230f0db7290/resource/926fd08f-cc91-4828-af38-bd45de97f8c3/download/statewide_cases.csv\", low_memory=False)\n",
    "californiaTestingTotalDf = pd.read_csv(\"https://data.ca.gov/dataset/efd6b822-7312-477c-922b-bccb82025fbe/resource/b6648a0d-ff0a-4111-b80b-febda2ac9e09/download/statewide_testing.csv\", low_memory=False)\n",
    "californiaTestingPositiveDf = pd.read_csv(\"https://covidtracking.com/data/download/california-history.csv\", usecols=[\"date\",\"positive\"], low_memory=False)"
   ]
  },
  {
   "cell_type": "code",
   "execution_count": null,
   "metadata": {},
   "outputs": [],
   "source": [
    "toCountyDf = californiaCasesDeathsDf.copy()\n",
    "toCountyDf[\"State\"] = \"California\"\n",
    "toCountyDf = toCountyDf[[\"date\", \"State\", \"county\", \"newcountconfirmed\", \"newcountdeaths\"]]\n",
    "toCountyDf.rename(columns={\"date\" : \"Date\", \"State\" : \"State\", \"county\" : \"County\", \"newcountconfirmed\" : \"Cases\", \"newcountdeaths\" : \"Deaths\"}, inplace=True)\n",
    "toCountyDf.to_csv('../data/processed/by_county/CA.csv', index=False)"
   ]
  },
  {
   "cell_type": "code",
   "execution_count": null,
   "metadata": {},
   "outputs": [],
   "source": [
    "californiaTestingTotalDf.rename(columns={\"date\" : \"Date\", \"tested\" : \"Tests\"}, inplace=True)\n",
    "californiaTestingPositiveDf.rename(columns={\"date\" : \"Date\", \"positive\" : \"Positive\"}, inplace=True)\n",
    "californiaTestingDf = californiaTestingPositiveDf.merge(californiaTestingTotalDf)\n",
    "californiaTestingDf[\"Negative\"] = californiaTestingDf[\"Tests\"] - californiaTestingDf[\"Positive\"]\n",
    "californiaTestingDf.drop(columns=\"Tests\", inplace=True)"
   ]
  },
  {
   "cell_type": "code",
   "execution_count": null,
   "metadata": {},
   "outputs": [],
   "source": [
    "firstRow = californiaTestingDf.tail(1)\n",
    "positiveDiff = californiaTestingDf.Positive.diff(periods=-1)\n",
    "positiveDiff.iloc[-1] = firstRow[\"Positive\"].values[0]\n",
    "californiaTestingDf[\"Positive\"] = positiveDiff"
   ]
  },
  {
   "cell_type": "code",
   "execution_count": null,
   "metadata": {},
   "outputs": [],
   "source": [
    "firstRow = californiaTestingDf.tail(1)\n",
    "negativeDiff = californiaTestingDf.Negative.diff(periods=-1)\n",
    "negativeDiff.iloc[-1] = firstRow[\"Negative\"].values[0]\n",
    "californiaTestingDf[\"Negative\"] = negativeDiff\n",
    "californiaTestingDf[\"State\"] = \"California\""
   ]
  },
  {
   "cell_type": "code",
   "execution_count": null,
   "metadata": {},
   "outputs": [],
   "source": [
    "californiaTestingDf.__dict__.update(californiaTestingDf.astype({\"Positive\": np.int64, \"Negative\": np.int64}).__dict__)\n",
    "californiaTestingDf.merge(toCountyDf.groupby(\"Date\").sum(), on=\"Date\", how=\"outer\")[::-1].to_csv('../data/processed/by_state/CA.csv', index=False)"
   ]
  }
 ],
 "metadata": {
  "kernelspec": {
   "display_name": "Python 3",
   "language": "python",
   "name": "python3"
  },
  "language_info": {
   "codemirror_mode": {
    "name": "ipython",
    "version": 3
   },
   "file_extension": ".py",
   "mimetype": "text/x-python",
   "name": "python",
   "nbconvert_exporter": "python",
   "pygments_lexer": "ipython3",
   "version": "3.8.5-final"
  }
 },
 "nbformat": 4,
 "nbformat_minor": 4
}