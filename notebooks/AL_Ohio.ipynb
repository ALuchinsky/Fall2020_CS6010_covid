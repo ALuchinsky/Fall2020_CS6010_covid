{
 "cells": [
  {
   "cell_type": "code",
   "execution_count": null,
   "metadata": {},
   "outputs": [],
   "source": [
    "import pandas as pd\n",
    "import numpy as np\n",
    "import seaborn as sns\n",
    "import matplotlib.pyplot as plt\n",
    "import urllib.request\n",
    "import re as re\n",
    "from bs4 import BeautifulSoup\n",
    "import plotly.express as ps"
   ]
  },
  {
   "cell_type": "code",
   "execution_count": null,
   "metadata": {},
   "outputs": [],
   "source": [
    "import json\n",
    "from urllib.request import urlopen"
   ]
  },
  {
   "cell_type": "markdown",
   "metadata": {},
   "source": [
    "## Download Two Data Sets "
   ]
  },
  {
   "cell_type": "markdown",
   "metadata": {},
   "source": [
    "### From official OHIO site `https://coronavirus.ohio.gov/wps/portal/gov/covid-19/dashboards`"
   ]
  },
  {
   "cell_type": "code",
   "execution_count": null,
   "metadata": {},
   "outputs": [],
   "source": [
    "df = pd.read_csv(\"https://coronavirus.ohio.gov/static/dashboards/COVIDSummaryData.csv\", low_memory=False)\n",
    "# The last row is summary\n",
    "df_sum = df.iloc[[-1]]\n",
    "# actual data is in the other columns\n",
    "df_data = df.iloc[:-1].copy()"
   ]
  },
  {
   "cell_type": "markdown",
   "metadata": {},
   "source": [
    "The data seems to be almost clean and tidy. The only missing data are in `Admission Date` and `Date Of Death` columns."
   ]
  },
  {
   "cell_type": "code",
   "execution_count": null,
   "metadata": {},
   "outputs": [],
   "source": [
    "df_data.head(10)"
   ]
  },
  {
   "cell_type": "code",
   "execution_count": null,
   "metadata": {},
   "outputs": [],
   "source": [
    "df_data.shape"
   ]
  },
  {
   "cell_type": "code",
   "execution_count": null,
   "metadata": {},
   "outputs": [],
   "source": [
    "df_data.dtypes"
   ]
  },
  {
   "cell_type": "code",
   "execution_count": null,
   "metadata": {},
   "outputs": [],
   "source": [
    "print(\"Missing data:\\n\")\n",
    "nRows = df_data.shape[0]\n",
    "100*(nRows - df_data.count())/nRows"
   ]
  },
  {
   "cell_type": "markdown",
   "metadata": {},
   "source": [
    "It means probably that 94% of the people are alive and 80% were not hosplalized. "
   ]
  },
  {
   "cell_type": "markdown",
   "metadata": {},
   "source": [
    "Let us assign the appoporate types"
   ]
  },
  {
   "cell_type": "code",
   "execution_count": null,
   "metadata": {},
   "outputs": [],
   "source": [
    "count_columns = [\"Case Count\", \"Death Due to Illness Count\", \"Hospitalized Count\"]\n",
    "for c in count_columns:\n",
    "    df_data[c] = df_data[c].astype(int)\n",
    "df_data[\"Onset Date\"] = pd.to_datetime( df_data[\"Onset Date\"])"
   ]
  },
  {
   "cell_type": "markdown",
   "metadata": {},
   "source": [
    "You can check that total sums of these columns agree with the corresponding columns in `df_sum` set, so we do not need `df_sum`"
   ]
  },
  {
   "cell_type": "code",
   "execution_count": null,
   "metadata": {},
   "outputs": [],
   "source": [
    "pd.DataFrame(index = count_columns, data = [[df_data[c].sum(), df_sum[c].iloc[0]] for c in count_columns], \n",
    "             columns= [\"sum\",\"df_sum\"])"
   ]
  },
  {
   "cell_type": "code",
   "execution_count": null,
   "metadata": {},
   "outputs": [],
   "source": [
    "print(\n",
    "    df_data.sort_values(\"Onset Date\", ascending = False).iloc[10:20].to_latex()\n",
    ")"
   ]
  },
  {
   "cell_type": "markdown",
   "metadata": {},
   "source": [
    "Recovered Cases are cases with a symptom onset date >21 prior who are not deceased"
   ]
  },
  {
   "cell_type": "code",
   "execution_count": null,
   "metadata": {},
   "outputs": [],
   "source": [
    "def get_nrecovered(day_, data = df_data,  delta = pd.Timedelta('21 day')):\n",
    "    return data[ (data[\"Onset Date\"] == day_ - delta) & (data[\"Date Of Death\"].isna() )].shape[0]"
   ]
  },
  {
   "cell_type": "code",
   "execution_count": null,
   "metadata": {},
   "outputs": [],
   "source": [
    "def create_cases(data = df_data):\n",
    "    df_cases = data.groupby(\"Onset Date\")[count_columns].sum()\n",
    "    for d in df_cases.index:\n",
    "        df_cases.loc[d, \"Recovered\"] = get_nrecovered(d, data=data)\n",
    "    return df_cases"
   ]
  },
  {
   "cell_type": "code",
   "execution_count": null,
   "metadata": {},
   "outputs": [],
   "source": [
    "def plot_cases(df_cases, case=True, death=True, hosp=True, recovered=True, ax = None):\n",
    "    if ax == None:\n",
    "        ax = plt.gca()\n",
    "    if case:\n",
    "        ax = sns.lineplot(data = df_cases, x=\"Onset Date\", y=\"Case Count\", label = \"Cases\", ax=ax)\n",
    "    if death:\n",
    "        ax = sns.lineplot(data = df_cases, x=\"Onset Date\", y=\"Death Due to Illness Count\", label = \"Deaths\", ax=ax)\n",
    "    if hosp:\n",
    "        ax = sns.lineplot(data = df_cases, x=\"Onset Date\", y=\"Hospitalized Count\", label = \"Hospitalized\", ax=ax)\n",
    "    if recovered:\n",
    "        ax = sns.lineplot(data = df_cases, x=\"Onset Date\", y=\"Recovered\", label = \"Recovered\", ax=ax)\n",
    "    return ax"
   ]
  },
  {
   "cell_type": "code",
   "execution_count": null,
   "metadata": {},
   "outputs": [],
   "source": [
    "fig, ax = plt.subplots(1, 1, figsize = (15, 10))\n",
    "plot_cases(create_cases())"
   ]
  },
  {
   "cell_type": "code",
   "execution_count": null,
   "metadata": {},
   "outputs": [],
   "source": [
    "fig, ax = plt.subplots( 1, 1, figsize = (15, 10))\n",
    "for sex in df_data[\"Sex\"].unique():\n",
    "    df_cases = create_cases( df_data[ df_data[\"Sex\"] == sex])\n",
    "    ax = sns.lineplot(data = df_cases, x=\"Onset Date\", y=\"Death Due to Illness Count\", label = sex)\n",
    "ax.set(title = df_data[\"Death Due to Illness Count\"].sum())"
   ]
  },
  {
   "cell_type": "code",
   "execution_count": null,
   "metadata": {},
   "outputs": [],
   "source": [
    "fig, ax = plt.subplots( 1, 1, figsize = (15, 10))\n",
    "plot_cases( create_cases(df_data), case=False, hosp=False, recovered=False)\n",
    "plt.grid()"
   ]
  },
  {
   "cell_type": "code",
   "execution_count": null,
   "metadata": {},
   "outputs": [],
   "source": [
    "fig, ax = plt.subplots(1, 1, figsize = (15, 10))\n",
    "plot_cases( create_cases(df_data.query(\"County == 'Wood'\")))\n",
    "plt.title(\"Wood County\")\n",
    "plt.show()"
   ]
  },
  {
   "cell_type": "markdown",
   "metadata": {},
   "source": [
    "### Map"
   ]
  },
  {
   "cell_type": "code",
   "execution_count": null,
   "metadata": {},
   "outputs": [],
   "source": [
    "with urlopen('https://raw.githubusercontent.com/plotly/datasets/master/geojson-counties-fips.json') as response:\n",
    "    counties = json.load(response)"
   ]
  },
  {
   "cell_type": "code",
   "execution_count": null,
   "metadata": {},
   "outputs": [],
   "source": [
    "ohio_counties = [c for c in counties[\"features\"] if c[\"properties\"][\"STATE\"] == \"39\"]\n",
    "ohio_counties_names = [c[\"properties\"][\"NAME\"] for c in ohio_counties]\n",
    "print( sorted( ohio_counties_names))\n",
    "# sorted([c[\"properties\"][\"NAME\"] for c in counties[\"features\"] if c[\"properties\"][\"STATE\"]==\"39\"])"
   ]
  },
  {
   "cell_type": "code",
   "execution_count": null,
   "metadata": {},
   "outputs": [],
   "source": [
    "import plotly.express as px\n",
    "fig = px.choropleth_mapbox(ohio_counties_names, geojson=ohio_counties, \n",
    "                           color_continuous_scale=\"Viridis\",\n",
    "                           range_color=(0, 12),\n",
    "                           mapbox_style=\"carto-positron\",\n",
    "                           zoom=3, center = {\"lat\": 37.0902, \"lon\": -95.7129},\n",
    "                           opacity=0.5)\n",
    "fig.show()"
   ]
  },
  {
   "cell_type": "code",
   "execution_count": null,
   "metadata": {},
   "outputs": [],
   "source": [
    "from urllib.request import urlopen\n",
    "import json\n",
    "with urlopen('https://raw.githubusercontent.com/plotly/datasets/master/geojson-counties-fips.json') as response:\n",
    "    counties = json.load(response)\n",
    "\n",
    "import pandas as pd\n",
    "df = pd.read_csv(\"https://raw.githubusercontent.com/plotly/datasets/master/fips-unemp-16.csv\",\n",
    "                   dtype={\"fips\": str})\n",
    "\n",
    "import plotly.express as px\n",
    "\n",
    "fig = px.choropleth_mapbox(df, geojson=counties, locations='fips', color='unemp',\n",
    "                           color_continuous_scale=\"Viridis\",\n",
    "                           range_color=(0, 12),\n",
    "                           mapbox_style=\"carto-positron\",\n",
    "                           zoom=3, center = {\"lat\": 37.0902, \"lon\": -95.7129},\n",
    "                           opacity=0.5,\n",
    "                           labels={'unemp':'unemployment rate'}\n",
    "                          )\n",
    "fig.update_layout(margin={\"r\":0,\"t\":0,\"l\":0,\"b\":0})\n",
    "fig.show()"
   ]
  },
  {
   "cell_type": "markdown",
   "metadata": {},
   "source": [
    "### From COVID tracker https://covidtracking.com/data"
   ]
  },
  {
   "cell_type": "code",
   "execution_count": null,
   "metadata": {},
   "outputs": [],
   "source": [
    "# tests from https://covidtracking.com/data\n",
    "df_tracker = pd.read_csv(\"https://covidtracking.com/data/download/all-states-history.csv\")\n",
    "df_tracker[\"date\"] = pd.to_datetime(df_tracker[\"date\"])\n",
    "ohio = df_tracker[ df_tracker[\"state\"] == \"OH\"].sort_values(\"date\", ascending = True)"
   ]
  },
  {
   "cell_type": "markdown",
   "metadata": {},
   "source": [
    "### Comparing Different Data Sets"
   ]
  },
  {
   "cell_type": "code",
   "execution_count": null,
   "metadata": {},
   "outputs": [],
   "source": [
    "df_cases = create_cases().cumsum()"
   ]
  },
  {
   "cell_type": "code",
   "execution_count": null,
   "metadata": {},
   "outputs": [],
   "source": [
    "fig, axes = plt.subplots(ncols=1, nrows = 4, figsize = (10,15))\n",
    "fields = [ [\"death\", \"Death Due to Illness Count\"], \n",
    "          [\"hospitalized\", \"Hospitalized Count\"], \n",
    "          [\"positive\", \"Case Count\"],\n",
    "          [\"recovered\", \"Recovered\"]\n",
    "         ]\n",
    "for ax, f in zip(axes, fields):\n",
    "    sns.lineplot(data = ohio, x=\"date\", y=f[0], label = \"covid_tracking\", ax=ax)\n",
    "    sns.lineplot(data = df_cases, x=\"Onset Date\", y=f[1], label = \"OHIO dashboard\", ax=ax)\n",
    "    ax.grid()"
   ]
  },
  {
   "cell_type": "markdown",
   "metadata": {},
   "source": [
    "Simple change of the dates for `Deaths`, `Hospitalizations`, `Cases`?\n",
    "\n",
    "I do not understand the defference with the `Recovered` field. Too many cumsum's ?"
   ]
  },
  {
   "cell_type": "markdown",
   "metadata": {},
   "source": [
    "Trying to obtain Covid Tracker distribution of hospitalization dates from OHIO dashboard"
   ]
  },
  {
   "cell_type": "code",
   "execution_count": null,
   "metadata": {},
   "outputs": [],
   "source": [
    "def extract_cases(date_field, count_field, data=df_data, timeDelta = pd.Timedelta(\"10d\")):\n",
    "    # only cases with known date\n",
    "    data_ = data[ data[date_field].notnull() & (data[date_field] != \"Unknown\")]\n",
    "    # type conversion and shift\n",
    "    data_.loc[:,date_field] = pd.to_datetime( data_[date_field]);\n",
    "    data_.loc[:,date_field] = data_[date_field] + timeDelta\n",
    "    # extracting only required fieds\n",
    "    data_ = data_.groupby(date_field)[count_field].sum().cumsum()\n",
    "    data_ = data_.reset_index()\n",
    "    return data_"
   ]
  },
  {
   "cell_type": "code",
   "execution_count": null,
   "metadata": {},
   "outputs": [],
   "source": [
    "deaths_deathDate = extract_cases(date_field=\"Date Of Death\", count_field=\"Death Due to Illness Count\")\n",
    "sns.lineplot(\n",
    "    data = deaths_deathDate, x=\"Date Of Death\", y=\"Death Due to Illness Count\", label = \"Ohio Dashboard\"\n",
    ")\n",
    "\n",
    "sns.lineplot(data = ohio, x=\"date\", y=\"death\", label = \"covid tracker\")"
   ]
  },
  {
   "cell_type": "code",
   "execution_count": null,
   "metadata": {},
   "outputs": [],
   "source": [
    "\n",
    "sns.lineplot(\n",
    "    data = extract_cases(date_field=\"Admission Date\", count_field=\"Hospitalized Count\", timeDelta=pd.Timedelta(\"0d\")),\n",
    "    x=\"Admission Date\", y=\"Hospitalized Count\", label = \"Ohio Dashboard\"\n",
    ")\n",
    "\n",
    "sns.lineplot(data = ohio, x=\"date\", y=\"hospitalized\", label = \"covid tracker\")"
   ]
  },
  {
   "cell_type": "markdown",
   "metadata": {},
   "source": [
    "## Mortality"
   ]
  },
  {
   "cell_type": "markdown",
   "metadata": {},
   "source": [
    "* Yearly satistics on the mortality rates can be found on https://www.cdc.gov/nchs/pressroom/states/ohio/ohio.htm.\n",
    "Need to parse the page to get it\n",
    "\n",
    "* Info of the mortality rates can be found on CDC webpage https://www.cdc.gov/nchs/data_access/vitalstatsonline.htm#Mortality_Multiple\n",
    "This is rather strange file, though, will not use it\n"
   ]
  },
  {
   "cell_type": "code",
   "execution_count": null,
   "metadata": {},
   "outputs": [],
   "source": [
    "baseUrl = \"https://www.cdc.gov/nchs/pressroom/states/ohio/ohio.htm\"\n",
    "page = urllib.request.urlopen(baseUrl).read()\n",
    "soup = BeautifulSoup(page, features=\"lxml\")\n",
    "panes = soup.findAll(class_ = \"tab-pane\")"
   ]
  },
  {
   "cell_type": "code",
   "execution_count": null,
   "metadata": {},
   "outputs": [],
   "source": [
    "# def flatten(L):\n",
    "#     return [L2 for L1 in L for L2 in L1]\n",
    "# def read_table_line(L):\n",
    "#     return flatten([[L.find(\"a\").string], [t.string for t in L.findAll(\"td\")]])"
   ]
  },
  {
   "cell_type": "code",
   "execution_count": null,
   "metadata": {},
   "outputs": [],
   "source": [
    "def parse_pane(pane):\n",
    "    table = pane.findAll(class_ = \"sos-table table\")[1]\n",
    "    title = table.find(\"th\").string\n",
    "    state, year = title[:2], title[-4:]\n",
    "    lines = table.findAll(\"tr\")\n",
    "    df_deaths = pd.DataFrame(columns = [\"State\",\"Year\",\"Cause\",\"Deaths\"])\n",
    "    for L in lines[1:]:\n",
    "        cause = L.find(\"a\").string\n",
    "        deaths = L.findAll(\"td\")[0].string.replace(\",\",\"\")\n",
    "        df_deaths = df_deaths.append({\"State\":state, \"Year\":int(year), \n",
    "                                      \"Cause\":cause, \"Deaths\":int(deaths)}, ignore_index=True)\n",
    "    # drugs\n",
    "    table = pane.findAll(class_ = \"sos-table table\")[2]\n",
    "    drug_row = [L for L in table.findAll(\"tr\") if \"Drug\" in L.find(\"th\").string][0]\n",
    "    drugs = drug_row.findAll(\"td\")[0].string.replace(\",\",\"\")\n",
    "    df_deaths = df_deaths.append({\"State\":state, \"Year\":int(year), \n",
    "                                  \"Cause\":\"Drugs\", \"Deaths\":int(drugs)}, ignore_index=True)\n",
    "    \n",
    "    df_deaths[\"Year\"] = df_deaths[\"Year\"].astype(int)\n",
    "    df_deaths[\"Deaths\"] = df_deaths[\"Deaths\"].astype(int)\n",
    "    return df_deaths\n"
   ]
  },
  {
   "cell_type": "code",
   "execution_count": null,
   "metadata": {},
   "outputs": [],
   "source": [
    "df_deaths = pd.concat([parse_pane(P) for P in panes]).reset_index().drop( columns=\"index\")"
   ]
  },
  {
   "cell_type": "code",
   "execution_count": null,
   "metadata": {},
   "outputs": [],
   "source": [
    "df_deaths"
   ]
  },
  {
   "cell_type": "code",
   "execution_count": null,
   "metadata": {},
   "outputs": [],
   "source": [
    "# Export to Latex for the report\n",
    "df_deaths_wide = df_deaths.replace(\"Chronic Lower Respiratory Diseases\", \"Chronic Lower Respiratory Disease\").\\\n",
    "    pivot(index=\"Cause\", columns=\"Year\", values=\"Deaths\")\n",
    "df_deaths_wide[\"Mean\"] = df_deaths_wide.mean(axis=1).astype(int)\n",
    "df_deaths_wide = df_deaths_wide.sort_values(\"Mean\", ascending = False)\n",
    "print(df_deaths_wide.to_latex())"
   ]
  },
  {
   "cell_type": "code",
   "execution_count": null,
   "metadata": {},
   "outputs": [],
   "source": [
    "summary = df_deaths.groupby(\"Cause\")[\"Deaths\"].describe()[[\"mean\",\"std\"]].sort_values(\"mean\", ascending = False).reset_index()\n",
    "summary"
   ]
  },
  {
   "cell_type": "code",
   "execution_count": null,
   "metadata": {},
   "outputs": [],
   "source": [
    "covid_deaths = create_cases()[\"Death Due to Illness Count\"].sum()\n",
    "print(\"COVID deaths:\", covid_deaths)"
   ]
  },
  {
   "cell_type": "code",
   "execution_count": null,
   "metadata": {},
   "outputs": [],
   "source": [
    "fig, ax = plt.subplots(1,1,figsize = (15,7))\n",
    "ax = sns.barplot(data = summary, y=\"Cause\", x=\"mean\")\n",
    "plt.xticks(rotation = 90)\n",
    "ax.axvline(x=covid_deaths, linewidth = 2, color = 'red', linestyle = '--')\n",
    "# plt.xticks(rotation=45)\n",
    "plt.show()"
   ]
  },
  {
   "cell_type": "markdown",
   "metadata": {},
   "source": [
    "Here is the other data set"
   ]
  },
  {
   "cell_type": "code",
   "execution_count": null,
   "metadata": {},
   "outputs": [],
   "source": [
    "# https://www.cdc.gov/nchs/nvss/vsrr/provisional-tables.htm\n",
    "df = pd.read_csv(\"https://data.cdc.gov/api/views/hmz2-vwda/rows.csv?accessType=DOWNLOAD\")"
   ]
  },
  {
   "cell_type": "code",
   "execution_count": null,
   "metadata": {
    "scrolled": true
   },
   "outputs": [],
   "source": [
    "df.columns"
   ]
  },
  {
   "cell_type": "code",
   "execution_count": null,
   "metadata": {},
   "outputs": [],
   "source": [
    "df_cases = create_cases()"
   ]
  },
  {
   "cell_type": "code",
   "execution_count": null,
   "metadata": {},
   "outputs": [],
   "source": [
    "df_cases"
   ]
  },
  {
   "cell_type": "code",
   "execution_count": null,
   "metadata": {},
   "outputs": [],
   "source": [
    "dfd = df[ (df[\"State\"] == \"OHIO\") & (df.Indicator == \"Number of Deaths\") & (df[\"Year\"] == 2019)]\n",
    "sns.scatterplot(data = dfd, x=\"Month\", y=\"Data Value\")\n",
    "plt.xticks(rotation=90)\n",
    "plt.ylim(0)\n",
    "plt.show()"
   ]
  },
  {
   "cell_type": "code",
   "execution_count": null,
   "metadata": {},
   "outputs": [],
   "source": [
    "df.Indicator.unique()"
   ]
  },
  {
   "cell_type": "code",
   "execution_count": null,
   "metadata": {},
   "outputs": [],
   "source": [
    "df.columns"
   ]
  },
  {
   "cell_type": "markdown",
   "metadata": {},
   "source": [
    "For some reason number of deaths in this data set is higher than previously"
   ]
  },
  {
   "cell_type": "code",
   "execution_count": null,
   "metadata": {},
   "outputs": [],
   "source": [
    "death_2017 = df_deaths[ df_deaths[\"Year\"] == 2017][\"Deaths\"].sum()\n",
    "death_2019 = df.query(\"State == 'OHIO' & Year == 2019& Indicator == 'Number of Deaths'\")[\"Data Value\"].sum()\n",
    "print(\"2017: \", death_2017)\n",
    "print(\"2019: \", death_2019)\n",
    "print(\" fact = %.2f\" % (death_2019/death_2017))"
   ]
  },
  {
   "cell_type": "markdown",
   "metadata": {},
   "source": [
    "The other dataset for deaths  "
   ]
  },
  {
   "cell_type": "code",
   "execution_count": null,
   "metadata": {},
   "outputs": [],
   "source": [
    "# https://data.cdc.gov/NCHS/Weekly-Counts-of-Deaths-by-State-and-Select-Causes/muzy-jte6/data\n",
    "us_mortality_data = pd.read_csv(\"https://data.cdc.gov/api/views/muzy-jte6/rows.csv?accessType=DOWNLOAD\")\n",
    "us_mortality_data[\"Week Ending Date\"] = pd.to_datetime( us_mortality_data[\"Week Ending Date\"])"
   ]
  },
  {
   "cell_type": "code",
   "execution_count": null,
   "metadata": {},
   "outputs": [],
   "source": [
    "us_mortality_data[\"Jurisdiction of Occurrence\"].unique()"
   ]
  },
  {
   "cell_type": "code",
   "execution_count": null,
   "metadata": {
    "scrolled": false
   },
   "outputs": [],
   "source": [
    "state = \"Georgia\"\n",
    "fig, ax = plt.subplots(figsize = (20, 10))\n",
    "data = us_mortality_data[ us_mortality_data[\"Jurisdiction of Occurrence\"] == state]\n",
    "# data = data[-20:-2]\n",
    "# data = data[ data[\"Week Ending Date\"] < np.datetime64(\"Oct 1,  2020\")]\n",
    "for c in [\n",
    "    'Septicemia (A40-A41)', 'Malignant neoplasms (C00-C97)',\n",
    "       'Diabetes mellitus (E10-E14)', 'Alzheimer disease (G30)',\n",
    "       'Influenza and pneumonia (J09-J18)',\n",
    "       'Chronic lower respiratory diseases (J40-J47)',\n",
    "       'Other diseases of respiratory system (J00-J06,J30-J39,J67,J70-J98)',\n",
    "       'Nephritis, nephrotic syndrome and nephrosis (N00-N07,N17-N19,N25-N27)',\n",
    "       'Symptoms, signs and abnormal clinical and laboratory findings, not elsewhere classified (R00-R99)',\n",
    "       'Diseases of heart (I00-I09,I11,I13,I20-I51)',\n",
    "       'Cerebrovascular diseases (I60-I69)',\n",
    "       'COVID-19 (U071, Multiple Cause of Death)',\n",
    "       'COVID-19 (U071, Underlying Cause of Death)']:\n",
    "    sns.lineplot(\n",
    "        x=data[\"Week Ending Date\"], \n",
    "        y=data[c].rolling(window=2).mean(), label = c, palette=\"blue\")\n",
    "plt.title(state)\n",
    "plt.xticks(rotation = 90);\n",
    "plt.ylim(0)\n",
    "plt.grid()\n",
    "plt.show()"
   ]
  },
  {
   "cell_type": "code",
   "execution_count": null,
   "metadata": {},
   "outputs": [],
   "source": [
    "from scipy.signal import find_peaks"
   ]
  },
  {
   "cell_type": "code",
   "execution_count": null,
   "metadata": {},
   "outputs": [],
   "source": [
    "peaks"
   ]
  },
  {
   "cell_type": "code",
   "execution_count": null,
   "metadata": {
    "scrolled": true
   },
   "outputs": [],
   "source": [
    "death = us_mortality_data[ us_mortality_data[\"Jurisdiction of Occurrence\"] == \"Mississippi\"][[\\\n",
    "                        \"Week Ending Date\", \"COVID-19 (U071, Multiple Cause of Death)\"]]\n",
    "death = death.rename(columns={\"COVID-19 (U071, Multiple Cause of Death)\":\"d\"})\n",
    "death.d = death[\"d\"].rolling(window = 2).mean()\n",
    "sns.lineplot(x=death[\"Week Ending Date\"], y=death[\"d\"])\n",
    "peaks = find_peaks(death.d, distance=5)[0]\n",
    "sns.scatterplot(\n",
    "    x=[death[\"Week Ending Date\"].values[p] for p in peaks],\n",
    "    y=[death[\"d\"].values[p] for p in peaks])"
   ]
  },
  {
   "cell_type": "markdown",
   "metadata": {},
   "source": [
    "In Ohio **Symptoms, signs and abnormal clinical and laboratory findings, not elsewhere classified** cause of death is rising!"
   ]
  },
  {
   "cell_type": "markdown",
   "metadata": {},
   "source": [
    "## Population"
   ]
  },
  {
   "cell_type": "code",
   "execution_count": null,
   "metadata": {},
   "outputs": [],
   "source": [
    "# from https://www.census.gov/data/datasets/time-series/demo/popest/2010s-state-total.html#par_textimage_1873399417\n",
    "df_population = \\\n",
    "    pd.read_excel(\"https://www2.census.gov/programs-surveys/popest/tables/2010-2019/state/totals/nst-est2019-01.xlsx\")\n",
    "\n",
    "df_Population = pd.DataFrame(\n",
    "    index = df_population.iloc[3:59,0].str.replace(\".\",\"\").str.upper(), \n",
    "    columns =list(df_population.iloc[2,3:])\n",
    ")\n",
    "df_Population = pd.DataFrame( df_population.iloc[3:59, 3:] )\n",
    "df_Population = df_Population.set_index(df_population.iloc[3:59,0].str.replace(\".\",\"\").str.upper())\n",
    "df_Population = df_Population.rename(columns=df_population.iloc[2,3:].astype(int))\n",
    "df_Population.index.names = [\"Territory\"]"
   ]
  },
  {
   "cell_type": "code",
   "execution_count": null,
   "metadata": {},
   "outputs": [],
   "source": [
    "print(\"Population of Ohio did not change much during last years\")\n",
    "pop_Ohio = df_Population.loc[\"OHIO\",:]\n",
    "print(\"Ohio population: %d +- %d ( %.2f %%)\" % \n",
    "      ( pop_Ohio.mean(), pop_Ohio.std(), 100*pop_Ohio.std()/pop_Ohio.mean())\n",
    "     )\n"
   ]
  },
  {
   "cell_type": "code",
   "execution_count": null,
   "metadata": {},
   "outputs": [],
   "source": [
    "pop_Ohio"
   ]
  },
  {
   "cell_type": "markdown",
   "metadata": {},
   "source": [
    "## Tests"
   ]
  },
  {
   "cell_type": "markdown",
   "metadata": {},
   "source": [
    "It could be very instructive to check the number of cases normalized by a number of issued tests"
   ]
  },
  {
   "cell_type": "code",
   "execution_count": null,
   "metadata": {},
   "outputs": [],
   "source": [
    "sns.lineplot(data = ohio, x=\"date\", y=\"totalTestResults\", label = \"totalTestResults\")\n",
    "sns.lineplot(data = ohio, x=\"date\", y=\"positive\", label = \"positive\")\n",
    "sns.lineplot(data = ohio, x=\"date\", y=\"negative\", label = \"negative\")\n",
    "# sns.lineplot(data = ohio, x=\"date\", y=\"recovered\", label = \"recovered\")\n",
    "# sns.lineplot(data = ohio, x=\"date\", y=\"recovered\", label = \"recovered\n",
    "plt.xticks(rotation = 90)\n",
    "plt.show()"
   ]
  },
  {
   "cell_type": "code",
   "execution_count": null,
   "metadata": {},
   "outputs": [],
   "source": [
    "ohio.columns"
   ]
  },
  {
   "cell_type": "markdown",
   "metadata": {},
   "source": [
    "## Ratios, etc"
   ]
  },
  {
   "cell_type": "code",
   "execution_count": null,
   "metadata": {},
   "outputs": [],
   "source": [
    "df_cases = create_cases()"
   ]
  },
  {
   "cell_type": "markdown",
   "metadata": {},
   "source": [
    "As we can see a second wave is evident"
   ]
  },
  {
   "cell_type": "code",
   "execution_count": null,
   "metadata": {},
   "outputs": [],
   "source": [
    "sns.lineplot( x=df_cases.index, y=df_cases[\"Death Due to Illness Count\"])"
   ]
  },
  {
   "cell_type": "code",
   "execution_count": null,
   "metadata": {},
   "outputs": [],
   "source": [
    "sns.lineplot(x = df_cases.index, y=df_cases[\"Hospitalized Count\"]/df_cases[\"Case Count\"])"
   ]
  },
  {
   "cell_type": "code",
   "execution_count": null,
   "metadata": {},
   "outputs": [],
   "source": [
    "df_cases = create_cases().cumsum()\n",
    "\n",
    "ohio_dr = pd.DataFrame()\n",
    "ohio_dr[\"date\"] = ohio[\"date\"]\n",
    "ohio_dr[\"ratio\"] = ohio[\"death\"]/ohio[\"positive\"]\n",
    "sns.lineplot(data = ohio_dr, x=\"date\", y=\"ratio\")\n",
    "plt.ylabel(\"deaths/#positive\")\n",
    "plt.show()"
   ]
  },
  {
   "cell_type": "code",
   "execution_count": null,
   "metadata": {},
   "outputs": [],
   "source": [
    "sns.lineplot(x=ohio_dr[\"date\"], y=ohio[\"death\"])"
   ]
  },
  {
   "cell_type": "code",
   "execution_count": null,
   "metadata": {},
   "outputs": [],
   "source": [
    "nDeaths = df_data[df_data[\"Date Of Death\"].notnull()][\"Case Count\"].sum()\n",
    "print(\"%d people died probably of COVID\" % nDeaths )\n",
    "nCOVIDDeaths = df_data[\"Death Due to Illness Count\"].sum()\n",
    "print(\"In %d cases [%d %%] COVID was comfirmed \" % (nCOVIDDeaths, 100*nCOVIDDeaths/nDeaths))\n",
    "nDiedInHospital = np.count_nonzero( df_data[\"Date Of Death\"].notnull() &  df_data[\"Admission Date\"].notnull() )\n",
    "print(\"%d people died in hispitals\" % nDiedInHospital)"
   ]
  },
  {
   "cell_type": "code",
   "execution_count": null,
   "metadata": {},
   "outputs": [],
   "source": [
    "np.count_nonzero( df_data[\"Date Of Death\"].notnull() &  df_data[\"Admission Date\"].notnull() )"
   ]
  },
  {
   "cell_type": "code",
   "execution_count": null,
   "metadata": {},
   "outputs": [],
   "source": [
    "df_DiedInHospitals = df_data[ df_data[\"Date Of Death\"].notnull() &  df_data[\"Admission Date\"].notnull()]\n",
    "df_DiedInHospitals = df_DiedInHospitals[ df_DiedInHospitals[\"Admission Date\"] != \"Unknown\"]\n",
    "df_DiedInHospitals[\"Admission Date\"] = pd.to_datetime( df_DiedInHospitals[\"Admission Date\"])\n",
    "df_DiedInHospitals = df_DiedInHospitals[ df_DiedInHospitals[\"Date Of Death\"] != \"Unknown\"]\n",
    "df_DiedInHospitals[\"Date Of Death\"] = pd.to_datetime( df_DiedInHospitals[\"Date Of Death\"])\n",
    "df_DiedInHospitals[\"time_in_Hospital\"] = (df_DiedInHospitals[\"Date Of Death\"] - df_DiedInHospitals[\"Admission Date\"])\n",
    "df_DiedInHospitals[\"time_in_Hospital\"] = df_DiedInHospitals[\"time_in_Hospital\"].dt.days\n",
    "\n",
    "sns.histplot(df_DiedInHospitals[\"time_in_Hospital\"])\n",
    "\n",
    "df_DiedInHospitals[\"time_in_Hospital\"].describe()"
   ]
  },
  {
   "cell_type": "markdown",
   "metadata": {},
   "source": [
    "# Get Ohio GeoJSON"
   ]
  },
  {
   "cell_type": "code",
   "execution_count": null,
   "metadata": {},
   "outputs": [],
   "source": [
    "ohioCountyGeoJSONURL = 'https://raw.githubusercontent.com/deldersveld/topojson/master/countries/us-states/OH-39-ohio-counties.json'"
   ]
  },
  {
   "cell_type": "markdown",
   "metadata": {},
   "source": [
    "Citation: \n",
    "\n",
    "Eldersveld, D. (2020) TopoJSON Collection (Version 1.0) [Source Code]. https://github.com/deldersveld/topojson."
   ]
  },
  {
   "cell_type": "markdown",
   "metadata": {},
   "source": [
    "## Import geopandas for plotting\n",
    "\n",
    "[Geopandas](https://geopandas.org/ \"Geopandas\")"
   ]
  },
  {
   "cell_type": "code",
   "execution_count": null,
   "metadata": {},
   "outputs": [],
   "source": [
    "import geopandas as gp"
   ]
  },
  {
   "cell_type": "markdown",
   "metadata": {},
   "source": [
    "## Plot empty map to confirm data source fitness"
   ]
  },
  {
   "cell_type": "code",
   "execution_count": null,
   "metadata": {},
   "outputs": [],
   "source": [
    "geoDataFrame = gp.read_file(ohioCountyGeoJSONURL)\n",
    "geoDataFrame.plot()"
   ]
  },
  {
   "cell_type": "code",
   "execution_count": null,
   "metadata": {},
   "outputs": [],
   "source": [
    "countyDataFrame = df_data.groupby([\"County\"])['Death Due to Illness Count'].sum()"
   ]
  },
  {
   "cell_type": "markdown",
   "metadata": {},
   "source": [
    "## Understanding the GeoJSON data"
   ]
  },
  {
   "cell_type": "code",
   "execution_count": null,
   "metadata": {},
   "outputs": [],
   "source": [
    "geoDataFrame.head(5)"
   ]
  },
  {
   "cell_type": "markdown",
   "metadata": {},
   "source": [
    "## Create a county organized Covid-19 DataFrame"
   ]
  },
  {
   "cell_type": "code",
   "execution_count": null,
   "metadata": {},
   "outputs": [],
   "source": [
    "df_data.columns"
   ]
  },
  {
   "cell_type": "code",
   "execution_count": null,
   "metadata": {},
   "outputs": [],
   "source": [
    "countyDataFrame = df_data.groupby([\"County\"]).sum()"
   ]
  },
  {
   "cell_type": "markdown",
   "metadata": {},
   "source": [
    "## Merge GeoJSON DataFrame with Covid-19 DataFrame"
   ]
  },
  {
   "cell_type": "code",
   "execution_count": null,
   "metadata": {},
   "outputs": [],
   "source": [
    "geoDataFrameMerged = geoDataFrame.merge(countyDataFrame, right_on=\"County\", left_on=\"NAME\")"
   ]
  },
  {
   "cell_type": "code",
   "execution_count": null,
   "metadata": {},
   "outputs": [],
   "source": [
    "geoDataFrameMerged.head()"
   ]
  },
  {
   "cell_type": "markdown",
   "metadata": {},
   "source": [
    "## Modify the DataFrame for centering labels for ease of comprehension."
   ]
  },
  {
   "cell_type": "code",
   "execution_count": null,
   "metadata": {},
   "outputs": [],
   "source": [
    "geoDataFrameMerged[\"center\"] = geoDataFrameMerged[\"geometry\"].centroid\n",
    "ohioCountyNames = geoDataFrameMerged.copy()\n",
    "ohioCountyNames.set_geometry(\"center\", inplace=True)"
   ]
  },
  {
   "cell_type": "markdown",
   "metadata": {},
   "source": [
    "## Plot Case County Data"
   ]
  },
  {
   "cell_type": "code",
   "execution_count": null,
   "metadata": {},
   "outputs": [],
   "source": [
    "ax = geoDataFrameMerged.plot(column=\"Case Count\", legend=True, figsize=(15,10), cmap='YlOrRd')\n",
    "\n",
    "for x, y, label in zip(ohioCountyNames.geometry.x, ohioCountyNames.geometry.y, ohioCountyNames[\"NAME\"]):\n",
    "    plt.text(x, y, label, fontsize = 10)"
   ]
  },
  {
   "cell_type": "markdown",
   "metadata": {},
   "source": [
    "## Plot Deaths Due to Illness Count"
   ]
  },
  {
   "cell_type": "code",
   "execution_count": null,
   "metadata": {
    "scrolled": false
   },
   "outputs": [],
   "source": [
    "ax = geoDataFrameMerged.plot(column=\"Death Due to Illness Count\", legend=True, figsize=(15,10), cmap='YlOrRd')\n",
    "\n",
    "for x, y, label in zip(ohioCountyNames.geometry.x, ohioCountyNames.geometry.y, ohioCountyNames[\"NAME\"]):\n",
    "    plt.text(x, y, label, fontsize = 10)"
   ]
  },
  {
   "cell_type": "markdown",
   "metadata": {},
   "source": [
    "## Plot Hospitalized Count"
   ]
  },
  {
   "cell_type": "code",
   "execution_count": null,
   "metadata": {},
   "outputs": [],
   "source": [
    "ax = geoDataFrameMerged.plot(column=\"Hospitalized Count\", legend=True, figsize=(12,8))\n",
    "for x, y, label in zip(ohioCountyNames.geometry.x, ohioCountyNames.geometry.y, ohioCountyNames[\"NAME\"]):\n",
    "    plt.text(x, y, label, fontsize = 10)"
   ]
  },
  {
   "cell_type": "markdown",
   "metadata": {},
   "source": [
    "## Movie"
   ]
  },
  {
   "cell_type": "code",
   "execution_count": null,
   "metadata": {},
   "outputs": [],
   "source": [
    "import bar_chart_race"
   ]
  },
  {
   "cell_type": "code",
   "execution_count": null,
   "metadata": {},
   "outputs": [],
   "source": [
    "death_ohio = us_mortality_data[ us_mortality_data[\"Jurisdiction of Occurrence\"] == \"Ohio\"][[\"Week Ending Date\", \n",
    "        'Septicemia (A40-A41)', 'Malignant neoplasms (C00-C97)',\n",
    "       'Diabetes mellitus (E10-E14)', 'Alzheimer disease (G30)',\n",
    "       'Influenza and pneumonia (J09-J18)',\n",
    "       'Chronic lower respiratory diseases (J40-J47)',\n",
    "       'Other diseases of respiratory system (J00-J06,J30-J39,J67,J70-J98)',\n",
    "       'Nephritis, nephrotic syndrome and nephrosis (N00-N07,N17-N19,N25-N27)',\n",
    "       'Symptoms, signs and abnormal clinical and laboratory findings, not elsewhere classified (R00-R99)',\n",
    "       'Diseases of heart (I00-I09,I11,I13,I20-I51)',\n",
    "       'Cerebrovascular diseases (I60-I69)',\n",
    "       'COVID-19 (U071, Multiple Cause of Death)',\n",
    "       'COVID-19 (U071, Underlying Cause of Death)']].set_index(\"Week Ending Date\")\n",
    "death_ohio = death_ohio.iloc[60:98]\n",
    "len(death_ohio)"
   ]
  },
  {
   "cell_type": "code",
   "execution_count": null,
   "metadata": {},
   "outputs": [],
   "source": [
    "bar_chart_race.bar_chart_race(death_ohio, filename = \"Ohio_death_causes.mp4\",\n",
    "                              sort='desc',\n",
    "    n_bars=10,\n",
    "    fixed_order=False,\n",
    "    fixed_max=True,\n",
    "    steps_per_period=10,\n",
    "    interpolate_period=False,\n",
    "    label_bars=True,\n",
    "    bar_size=.95,\n",
    "    period_label={'x': .99, 'y': .25, 'ha': 'right', 'va': 'center'},\n",
    "    period_fmt='%B %d, %Y',\n",
    "    period_summary_func=lambda v, r: {'x': .99, 'y': .18,\n",
    "                                      's': f'Total deaths: {v.nlargest(6).sum():,.0f}',\n",
    "                                      'ha': 'right', 'size': 8, 'family': 'Courier New'},\n",
    "    perpendicular_bar_func='median',\n",
    "    period_length=4*500,\n",
    "    figsize=(5, 3),\n",
    "    dpi=144,\n",
    "    cmap='dark12',\n",
    "    title='COVID-19 Deaths by Country',\n",
    "    title_size='',\n",
    "    bar_label_size=7,\n",
    "    tick_label_size=7,\n",
    "    shared_fontdict={'family' : 'Helvetica', 'color' : '.1'},\n",
    "    scale='linear',\n",
    "    writer=None,\n",
    "    fig=None,\n",
    "    bar_kwargs={'alpha': .7},\n",
    "    filter_column_colors=False)  "
   ]
  },
  {
   "cell_type": "code",
   "execution_count": null,
   "metadata": {},
   "outputs": [],
   "source": [
    "death_texas = us_mortality_data[ us_mortality_data[\"Jurisdiction of Occurrence\"] == \"Texas\"][[\"Week Ending Date\", \n",
    "        'Septicemia (A40-A41)', 'Malignant neoplasms (C00-C97)',\n",
    "       'Diabetes mellitus (E10-E14)', 'Alzheimer disease (G30)',\n",
    "       'Influenza and pneumonia (J09-J18)',\n",
    "       'Chronic lower respiratory diseases (J40-J47)',\n",
    "       'Other diseases of respiratory system (J00-J06,J30-J39,J67,J70-J98)',\n",
    "       'Nephritis, nephrotic syndrome and nephrosis (N00-N07,N17-N19,N25-N27)',\n",
    "       'Symptoms, signs and abnormal clinical and laboratory findings, not elsewhere classified (R00-R99)',\n",
    "       'Diseases of heart (I00-I09,I11,I13,I20-I51)',\n",
    "       'Cerebrovascular diseases (I60-I69)',\n",
    "       'COVID-19 (U071, Multiple Cause of Death)',\n",
    "       'COVID-19 (U071, Underlying Cause of Death)']].set_index(\"Week Ending Date\")\n",
    "death_texas = death_texas.iloc[60:]\n",
    "len(death_texas)"
   ]
  },
  {
   "cell_type": "code",
   "execution_count": null,
   "metadata": {},
   "outputs": [],
   "source": [
    "bar_chart_race.bar_chart_race(death_texas, filename = \"Texas_death_causes.mp4\",\n",
    "                              sort='desc',\n",
    "    n_bars=10,\n",
    "    fixed_order=False,\n",
    "    fixed_max=True,\n",
    "    steps_per_period=10,\n",
    "    interpolate_period=False,\n",
    "    label_bars=True,\n",
    "    bar_size=.95,\n",
    "    period_label={'x': .99, 'y': .25, 'ha': 'right', 'va': 'center'},\n",
    "    period_fmt='%B %d, %Y',\n",
    "    period_summary_func=lambda v, r: {'x': .99, 'y': .18,\n",
    "                                      's': f'Total deaths: {v.nlargest(6).sum():,.0f}',\n",
    "                                      'ha': 'right', 'size': 8, 'family': 'Courier New'},\n",
    "    perpendicular_bar_func='median',\n",
    "    period_length=4*500,\n",
    "    figsize=(5, 3),\n",
    "    dpi=144,\n",
    "    cmap='dark12',\n",
    "    title='COVID-19 Deaths by Country',\n",
    "    title_size='',\n",
    "    bar_label_size=7,\n",
    "    tick_label_size=7,\n",
    "    shared_fontdict={'family' : 'Helvetica', 'color' : '.1'},\n",
    "    scale='linear',\n",
    "    writer=None,\n",
    "    fig=None,\n",
    "    bar_kwargs={'alpha': .7},\n",
    "    filter_column_colors=False)  "
   ]
  },
  {
   "cell_type": "code",
   "execution_count": null,
   "metadata": {},
   "outputs": [],
   "source": []
  }
 ],
 "metadata": {
  "kernelspec": {
   "display_name": "Python 3",
   "language": "python",
   "name": "python3"
  },
  "language_info": {
   "codemirror_mode": {
    "name": "ipython",
    "version": 3
   },
   "file_extension": ".py",
   "mimetype": "text/x-python",
   "name": "python",
   "nbconvert_exporter": "python",
   "pygments_lexer": "ipython3",
   "version": "3.8.5"
  }
 },
 "nbformat": 4,
 "nbformat_minor": 4
}
